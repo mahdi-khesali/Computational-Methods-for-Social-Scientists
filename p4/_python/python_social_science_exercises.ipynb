{
 "cells": [
  {
   "cell_type": "markdown",
   "id": "4901aeba",
   "metadata": {},
   "source": [
    "# Python for Social Science – Exercises"
   ]
  },
  {
   "cell_type": "markdown",
   "id": "faaafcec",
   "metadata": {},
   "source": [
    "This notebook contains exercises related to the Python topics introduced in the course material. You are encouraged to run and modify the code in each cell to solidify your understanding."
   ]
  },
  {
   "cell_type": "markdown",
   "id": "64e89b10",
   "metadata": {},
   "source": [
    "## 1. Jupyter Notebooks\n",
    "Open a new code cell and type `print(\"Hello, social science!\")`. Run the cell."
   ]
  },
  {
   "cell_type": "markdown",
   "id": "c5c8a7fe",
   "metadata": {},
   "source": [
    "## 2. Basic Python Syntax and Data Types"
   ]
  },
  {
   "cell_type": "code",
   "execution_count": null,
   "id": "4fb47396",
   "metadata": {},
   "outputs": [],
   "source": [
    "# What is the type of the following variables?\n",
    "a = 5\n",
    "b = 3.14\n",
    "c = \"data\"\n",
    "# Use the type() function to find out."
   ]
  },
  {
   "cell_type": "markdown",
   "id": "732b112a",
   "metadata": {},
   "source": [
    "## 3. Variables and Assignment"
   ]
  },
  {
   "cell_type": "code",
   "execution_count": null,
   "id": "16f8b4b7",
   "metadata": {},
   "outputs": [],
   "source": [
    "# Assign the value 2025 to a variable called 'year'.\n",
    "# Then print 'The year is', followed by the value of year."
   ]
  },
  {
   "cell_type": "markdown",
   "id": "2da84d29",
   "metadata": {},
   "source": [
    "## 4. Lists and Indexing"
   ]
  },
  {
   "cell_type": "code",
   "execution_count": null,
   "id": "f0caa630",
   "metadata": {},
   "outputs": [],
   "source": [
    "# Create a list of the following years: 1990, 2000, 2010, 2020\n",
    "# Print the second element of the list."
   ]
  },
  {
   "cell_type": "markdown",
   "id": "5b4ca573",
   "metadata": {},
   "source": [
    "## 5. Control Flow"
   ]
  },
  {
   "cell_type": "code",
   "execution_count": null,
   "id": "c6e79f0e",
   "metadata": {},
   "outputs": [],
   "source": [
    "# Write a for loop that prints numbers from 1 to 5\n",
    "for i in range(1, 6):\n",
    "    print(i)"
   ]
  },
  {
   "cell_type": "code",
   "execution_count": null,
   "id": "0d4db22b",
   "metadata": {},
   "outputs": [],
   "source": [
    "# Write an if-else statement that checks whether a variable 'x' is positive, negative, or zero.\n",
    "x = 10\n",
    "# Your code here."
   ]
  },
  {
   "cell_type": "markdown",
   "id": "eb0b3e7a",
   "metadata": {},
   "source": [
    "## 6. Functions"
   ]
  },
  {
   "cell_type": "code",
   "execution_count": null,
   "id": "6cb82f9b",
   "metadata": {},
   "outputs": [],
   "source": [
    "# Write a function that takes two numbers and returns their average.\n",
    "# Call the function with values 10 and 20."
   ]
  },
  {
   "cell_type": "markdown",
   "id": "085b3c61",
   "metadata": {},
   "source": [
    "## 7. Modules and Importing"
   ]
  },
  {
   "cell_type": "code",
   "execution_count": null,
   "id": "b6da0885",
   "metadata": {},
   "outputs": [],
   "source": [
    "# Import the math module and use it to compute the square root of 64."
   ]
  },
  {
   "cell_type": "markdown",
   "id": "363fe3ad",
   "metadata": {},
   "source": [
    "## 8. Simple Data Analysis with Pandas and Matplotlib"
   ]
  },
  {
   "cell_type": "code",
   "execution_count": null,
   "id": "e5cea536",
   "metadata": {},
   "outputs": [],
   "source": [
    "import pandas as pd\n",
    "import matplotlib.pyplot as plt\n",
    "\n",
    "# Create a simple DataFrame with columns 'year' and 'population'\n",
    "data = {'year': [2000, 2005, 2010, 2015, 2020],\n",
    "        'population': [6.1, 6.5, 6.9, 7.3, 7.8]}\n",
    "df = pd.DataFrame(data)\n",
    "\n",
    "# Plot the population over years\n",
    "plt.plot(df['year'], df['population'])\n",
    "plt.xlabel('Year')\n",
    "plt.ylabel('Population (billions)')\n",
    "plt.title('World Population Over Time')\n",
    "plt.show()"
   ]
  }
 ],
 "metadata": {},
 "nbformat": 4,
 "nbformat_minor": 5
}
