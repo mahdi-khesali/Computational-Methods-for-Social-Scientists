{
 "cells": [
  {
   "metadata": {},
   "cell_type": "markdown",
   "source": [
    "### To Use the Code in Google Colab\n",
    "\n",
    "To run the notebooks and access the data in Google Colab, follow these steps:\n",
    "\n",
    "1. **Create a Google account** if you don't already have one. This gives you access to both Colab and Google Drive.\n",
    "\n",
    "2. **Use the shared link** provided to you to copy (clone) the notebooks into your own Google Drive.\n",
    "\n",
    "3. **Download the corpora and exercise files** from the link provided, and upload them to your Google Drive.\n",
    "\n",
    "4. **Grant Colab access to your Google Drive** by running the following code:\n",
    "\n",
    "```python\n",
    "from google.colab import drive\n",
    "drive.mount('/content/drive')\n",
    "```\n",
    "\n",
    "\n",
    "5. **You can now easily read files from your Google Drive** using standard file paths.\n",
    "\n",
    "---\n",
    "---"
   ],
   "id": "e5ed42ec6b7a99c1"
  },
  {
   "cell_type": "markdown",
   "id": "b5fb3831-b00d-42a0-8657-4cef822d920a",
   "metadata": {},
   "source": [
    "## Exercise 6.1"
   ]
  },
  {
   "cell_type": "markdown",
   "id": "6020ac04-925d-44d0-a652-be19b2d6a65a",
   "metadata": {},
   "source": [
    "## Exercise 6.2"
   ]
  },
  {
   "cell_type": "markdown",
   "id": "3eaedef5-dfea-4a53-88d7-8c2e5585797f",
   "metadata": {},
   "source": [
    "## Exercise 6.3"
   ]
  },
  {
   "cell_type": "markdown",
   "id": "aab5d80a-a657-4c39-8846-4d183f11c34d",
   "metadata": {},
   "source": [
    "## Exercise 6.4"
   ]
  },
  {
   "cell_type": "markdown",
   "id": "4c95e59f-f9e9-43df-9739-400e4427f7f3",
   "metadata": {},
   "source": [
    "## Exercise 6.5"
   ]
  },
  {
   "cell_type": "markdown",
   "id": "5b912935-0f18-4951-bab8-f5a64bcdcd83",
   "metadata": {},
   "source": [
    "## Exercise 6.6"
   ]
  }
 ],
 "metadata": {
  "kernelspec": {
   "display_name": "Python 3 (ipykernel)",
   "language": "python",
   "name": "python3"
  },
  "language_info": {
   "codemirror_mode": {
    "name": "ipython",
    "version": 3
   },
   "file_extension": ".py",
   "mimetype": "text/x-python",
   "name": "python",
   "nbconvert_exporter": "python",
   "pygments_lexer": "ipython3",
   "version": "3.9.21"
  }
 },
 "nbformat": 4,
 "nbformat_minor": 5
}
