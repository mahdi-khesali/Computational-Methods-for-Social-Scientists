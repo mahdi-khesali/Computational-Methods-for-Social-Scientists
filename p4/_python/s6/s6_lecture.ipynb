{
 "cells": [
  {
   "metadata": {},
   "cell_type": "markdown",
   "source": [
    "### To Use the Code in Google Colab\n",
    "\n",
    "To run the notebooks and access the data in Google Colab, follow these steps:\n",
    "\n",
    "1. **Create a Google account** if you don't already have one. This gives you access to both Colab and Google Drive.\n",
    "\n",
    "2. **Use the shared link** provided to you to copy (clone) the notebooks into your own Google Drive.\n",
    "\n",
    "3. **Download the corpora and exercise files** from the link provided, and upload them to your Google Drive.\n",
    "\n",
    "4. **Grant Colab access to your Google Drive** by running the following code:\n",
    "\n",
    "```python\n",
    "from google.colab import drive\n",
    "drive.mount('/content/drive')\n",
    "```\n",
    "\n",
    "\n",
    "5. **You can now easily read files from your Google Drive** using standard file paths.\n",
    "\n",
    "---\n",
    "---"
   ],
   "id": "fce80bfe4eac162"
  },
  {
   "metadata": {},
   "cell_type": "code",
   "outputs": [],
   "execution_count": null,
   "source": "",
   "id": "43c171d722b5110a"
  }
 ],
 "metadata": {},
 "nbformat": 4,
 "nbformat_minor": 5
}
