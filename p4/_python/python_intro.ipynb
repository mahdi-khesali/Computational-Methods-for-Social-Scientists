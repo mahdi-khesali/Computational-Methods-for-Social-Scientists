{
 "cells": [
  {
   "cell_type": "markdown",
   "id": "7f8d8613-f77e-4041-993d-3767fc7fa7aa",
   "metadata": {},
   "source": [
    "# A very short introduction to python for social scientist"
   ]
  },
  {
   "cell_type": "markdown",
   "id": "77f2a716-200a-4385-a979-af0b0ae36ba8",
   "metadata": {},
   "source": [
    "## Two Main Features of Python Relevant for Social scientists"
   ]
  },
  {
   "cell_type": "markdown",
   "id": "313c17ec-862b-4b7e-9752-42e390a56091",
   "metadata": {},
   "source": [
    "### Python as a programming langauge"
   ]
  },
  {
   "cell_type": "markdown",
   "id": "34599183-bdca-425a-9667-92771928c125",
   "metadata": {},
   "source": [
    "- Python is a programming language.\n",
    "    - Think about programming languages in terms of natural languages.\n",
    "    - Each language has a set of words and grammar rules that make communication between two people possible.\n",
    "    - Programming languages are sets of rules and syntaxes (words) that make communication between humans and computers possible."
   ]
  },
  {
   "cell_type": "markdown",
   "id": "5af844de-c082-4010-a154-7d62f1ca2121",
   "metadata": {},
   "source": [
    "---\n",
    "---"
   ]
  },
  {
   "cell_type": "markdown",
   "id": "d4409a4c-c017-4f52-b08d-55f9cbd1dc1d",
   "metadata": {},
   "source": [
    "### Python is an object-oriented language."
   ]
  },
  {
   "cell_type": "markdown",
   "id": "5b181e85-73df-4b90-91e4-b6cc1e3c1ee3",
   "metadata": {},
   "source": [
    "- In Object-Oriented Programming (OOP), we keep data and the operations that can be performed on that data together in a so-called class\n",
    "  - Imagine that you have a data point equal to 2.\n",
    "      - Since 2 is an integer, you can perform all arithmetic operations on it.\n",
    "      - Think of a class as a template where you can store your data.\n",
    "      - Your data is 2, which we store in a variable with a specific name, and all arithmetic operations can be conducted on that variable.\n",
    "      - Operations that you apply to a variable either come from Python's built-in functions or from external packages that you import.\n",
    "- Every type in Python has methods (functions that perform operations) and attributes (properties or data associated with an instance)."
   ]
  },
  {
   "cell_type": "markdown",
   "id": "35c8ab5b-26cc-412d-a35a-687c2077d2bf",
   "metadata": {},
   "source": [
    "---\n",
    "---"
   ]
  },
  {
   "cell_type": "markdown",
   "id": "d6f56c3d-046b-4f4e-a392-70059f70394c",
   "metadata": {},
   "source": [
    "### Python is modular."
   ]
  },
  {
   "cell_type": "markdown",
   "id": "01edb39e-38c2-4c28-b763-68ebb05c67ac",
   "metadata": {},
   "source": [
    "- Python has a limited number of built-in functions. You can perform some tasks, but not everything.\n",
    "- You need other sets of code that allow you to work with different types of data and perform different types of operations (functions).\n",
    "    - These additional sets of code are organized into modules and packages.\n",
    "- For almost every type of data and function, there is a package in Python that allows you to work with it.\n",
    "    - You want to work with images: Pillow\n",
    "    - You want to work with text: spaCy\n",
    "    - You want to work with matrices: NumPy"
   ]
  },
  {
   "cell_type": "markdown",
   "id": "5db661a8-e316-4754-b214-8cc4a8aa35e5",
   "metadata": {},
   "source": [
    "---\n",
    "---"
   ]
  },
  {
   "cell_type": "code",
   "execution_count": 1,
   "id": "261f6803-03f1-4c85-825a-0421b7ea1dc5",
   "metadata": {},
   "outputs": [],
   "source": [
    "# Use 'import' to import a package into the Python environment\n",
    "import pandas \n",
    "\n",
    "# To use a method from an external package, you need to call the package first\n",
    "df1 = pandas.DataFrame()\n",
    "\n",
    "# Use an alias when importing a package to simplify method calls. \n",
    "# The alias should be used thereafter to reference the package.\n",
    "import pandas as pd \n",
    "df1 = pd.DataFrame()\n",
    "\n",
    "# Use 'from ... import ...' to import a specific method from a package. \n",
    "# However, this is not recommended, as different packages may have methods with the same name but different behavior.\n",
    "from pandas import DataFrame\n",
    "df2 = DataFrame()"
   ]
  },
  {
   "cell_type": "markdown",
   "id": "8d4a90b0-190d-419f-a7f4-3995318fbfea",
   "metadata": {},
   "source": [
    "## Before everything starts"
   ]
  },
  {
   "cell_type": "markdown",
   "id": "b0ca8b5c-f536-48aa-9ec7-2a734df08a99",
   "metadata": {},
   "source": [
    "- Use '#' to add comments in your code\n",
    "    - Commenting means that the computer reads the line but does not execute it.\n",
    "        - It is used to explain what a piece of code does.\n",
    "\n",
    "- Use the ymbol '=' to assign a value to a variable\n",
    "    - x = 22\n",
    "- Use double equal '==' to compare between two variables. \n",
    "- Python is a case-sensitive language.\n",
    "    - $ x \\neq X$\n",
    "\n",
    "- Indentation is important.\n",
    "    - Improper indentation in your code will cause it to break.\n",
    "\n",
    "- The basic syntax for output in Python is print().\n",
    "\n",
    "- A variable is an instance of one of the types available in Python."
   ]
  },
  {
   "cell_type": "code",
   "execution_count": 34,
   "id": "0325f502-dabd-4cde-9b71-220fa9cbc545",
   "metadata": {},
   "outputs": [
    {
     "name": "stdout",
     "output_type": "stream",
     "text": [
      "This is ILE Summer School.\n"
     ]
    }
   ],
   "source": [
    "# Use 'print()' as the basic output function in Python  \n",
    "# It is used to display the value of a variable or a message  \n",
    "print(\"This is ILE Summer School.\")"
   ]
  },
  {
   "cell_type": "markdown",
   "id": "a089bfe8-87ca-4064-8b7d-7dcf20aded51",
   "metadata": {},
   "source": [
    "## Basic types of variables in python "
   ]
  },
  {
   "cell_type": "markdown",
   "id": "5a123e16-75e4-4ddb-a144-69bf40981137",
   "metadata": {},
   "source": [
    "- use '*type()*' to find out about a type of variable. "
   ]
  },
  {
   "cell_type": "code",
   "execution_count": 35,
   "id": "fa42ab2d-4a14-4c71-91a9-7eac2d2b7ad2",
   "metadata": {},
   "outputs": [
    {
     "name": "stdout",
     "output_type": "stream",
     "text": [
      "integer:  <class 'int'> \n",
      " float:  <class 'float'> \n",
      " string:  <class 'str'> \n",
      " boolean:  <class 'bool'>\n"
     ]
    }
   ],
   "source": [
    "# Assign an integer value to a variable\n",
    "integer = 24\n",
    "\n",
    "# Assign a floating-point value to a variable\n",
    "float_value = 24.5\n",
    "\n",
    "# Assign a string value to a variable\n",
    "string = 'string'\n",
    "\n",
    "# Assign a boolean value to a variable\n",
    "boolean = True\n",
    "\n",
    "# Use 'type()' to print the data type of each variable\n",
    "print(\"integer: \", type(integer), \"\\n\", \n",
    "      \"float: \", type(float_value), \"\\n\", \n",
    "      \"string: \", type(string), \"\\n\", \n",
    "      \"boolean: \", type(boolean))\n"
   ]
  },
  {
   "cell_type": "markdown",
   "id": "9e81a88b-c692-4234-aa54-5b1a7a552ad8",
   "metadata": {},
   "source": [
    "### Strings\n",
    "- A string is a type that stores a series or sequence of characters.\n",
    "- These characters can be letters, numbers, or symbols."
   ]
  },
  {
   "cell_type": "code",
   "execution_count": 37,
   "id": "86eda994-7e02-43f4-b87e-4485b380da6b",
   "metadata": {},
   "outputs": [
    {
     "name": "stdout",
     "output_type": "stream",
     "text": [
      "<class 'str'> <class 'str'> <class 'str'>\n"
     ]
    }
   ],
   "source": [
    "a = 'This a letter.'\n",
    "\n",
    "b = ' 1 2 3 4 5'\n",
    "\n",
    "ab = 'This a string variable containing both character and numbers: 1 2 3 4' \n",
    "\n",
    "print(type(a), type(b),type(ab))"
   ]
  },
  {
   "cell_type": "code",
   "execution_count": 5,
   "id": "54eef2c0-7c52-4795-8cdc-bda7bf8950d0",
   "metadata": {},
   "outputs": [
    {
     "name": "stdout",
     "output_type": "stream",
     "text": [
      "a:  <class 'str'> \n",
      " b:  <class 'str'> \n",
      "\n"
     ]
    }
   ],
   "source": [
    "# Use '' or \"\" to assign a string value to a variable. \n",
    "a = 'This is string with quation.'\n",
    "\n",
    "b = \"This is string with a dubble quation.\"\n",
    "\n",
    "print(\"a: \", type(a), \"\\n\", \n",
    "      \"b: \", type(b), \"\\n\", )"
   ]
  },
  {
   "cell_type": "code",
   "execution_count": 38,
   "id": "3951be49-2010-4f0b-bb36-c6f0a2167d96",
   "metadata": {},
   "outputs": [
    {
     "name": "stdout",
     "output_type": "stream",
     "text": [
      "<class 'str'> \n",
      "  \n",
      "This is a longer string. \n",
      "It has multiple lines. \n",
      "It is very useful for NLP tasks. \n",
      "             \n"
     ]
    }
   ],
   "source": [
    "# Use \"\"\" \"\"\" or ''' ''' for a strings with multiple lines. \n",
    "longString = \"\"\" \n",
    "This is a longer string. \n",
    "It has multiple lines. \n",
    "It is very useful for NLP tasks. \n",
    "             \"\"\"\n",
    "\n",
    "print(type(longString), \"\\n\", longString)"
   ]
  },
  {
   "cell_type": "markdown",
   "id": "cb115b9e-ed61-4a59-8875-7c1ac27269b9",
   "metadata": {},
   "source": [
    "---\n",
    "---"
   ]
  },
  {
   "cell_type": "markdown",
   "id": "d73eb502-3ca2-4370-819f-43b7fb6a3477",
   "metadata": {},
   "source": [
    "**Basic Operation on String variables**"
   ]
  },
  {
   "cell_type": "code",
   "execution_count": 39,
   "id": "a0a14dab-8f33-4626-bb42-a8a4e6dd36ea",
   "metadata": {},
   "outputs": [
    {
     "name": "stdout",
     "output_type": "stream",
     "text": [
      "This is the first part of an string as an example of string concatentation.\n"
     ]
    }
   ],
   "source": [
    "# Concatenation of string \n",
    "string1 = \"This is the first\"\n",
    "string2 = 'part of an string'\n",
    "string3 = 'as an example of string concatentation.'\n",
    "stringComplete = string1 + \" \" + string2 + \" \" + string3 \n",
    "print(stringComplete)"
   ]
  },
  {
   "cell_type": "code",
   "execution_count": 41,
   "id": "7b2eefbd-be9d-4dd6-aa2b-36420c6b707c",
   "metadata": {},
   "outputs": [
    {
     "name": "stdout",
     "output_type": "stream",
     "text": [
      "['This', 'is', 'the', 'first', 'part', 'of', 'an', 'string', 'as', 'an', 'example', 'of', 'string', 'concatentation.']\n"
     ]
    }
   ],
   "source": [
    "# Counting the number of words in a string has two steps\n",
    "\n",
    "# Step 1: Split the string  \n",
    "# We need to choose a delimiter to split the string. In English (and other Latin-based languages), words are typically separated by whitespace  \n",
    "stringCompleteSplitted = stringComplete.split(' ')\n",
    "\n",
    "# Step 2: Print the result of the split operation  \n",
    "print(stringCompleteSplitted)"
   ]
  },
  {
   "cell_type": "code",
   "execution_count": 42,
   "id": "fbb31b86-690f-4903-8a4a-ed9bffc94190",
   "metadata": {},
   "outputs": [
    {
     "name": "stdout",
     "output_type": "stream",
     "text": [
      "In mathematics the set of natural numbers starts with one and continues as two, three, ...\n"
     ]
    }
   ],
   "source": [
    "# Replace one part of a string with another part  \n",
    "string2Replace = \"In mathematics the set of natural numbers starts with 1 and continues as 2, 3, ...\"\n",
    "\n",
    "# Use 'replace()' to substitute specific substrings with new values  \n",
    "stringReplaced = string2Replace.replace(\"1\", \"one\").replace(\"2\", \"two\").replace(\"3\", \"three\")\n",
    "\n",
    "# Print the updated string after replacements  \n",
    "print(stringReplaced)"
   ]
  },
  {
   "cell_type": "markdown",
   "id": "f7839721-3670-4a53-acb9-9eb734fa7a26",
   "metadata": {},
   "source": [
    "**For more about strings and syntax for manipulating them:**\n",
    "- Look at the tutorials on Regex"
   ]
  },
  {
   "cell_type": "markdown",
   "id": "9f5cd603-6aed-4749-ad8c-de8d155573f5",
   "metadata": {},
   "source": [
    "### Integer and Float"
   ]
  },
  {
   "cell_type": "markdown",
   "id": "1be80e30-dd42-4ca5-bd41-1188f31a9a92",
   "metadata": {},
   "source": [
    "**The set of integer number is represented as integer type and the set of rational numbers is represented by float type.**"
   ]
  },
  {
   "cell_type": "code",
   "execution_count": 10,
   "id": "ba7708a0-b572-4c5a-b27a-42a9baae9d3f",
   "metadata": {},
   "outputs": [
    {
     "name": "stdout",
     "output_type": "stream",
     "text": [
      "<class 'int'> <class 'float'>\n"
     ]
    }
   ],
   "source": [
    "numberInt = 4\n",
    "numberFloat = 4.0 \n",
    "print(type(numberInt), type(numberFloat))"
   ]
  },
  {
   "cell_type": "markdown",
   "id": "c64c5c07-88d9-45dd-8fb2-be57b20788bb",
   "metadata": {},
   "source": [
    "**You can operates the basic arthmatic operations on both integer and float numbers.**"
   ]
  },
  {
   "cell_type": "code",
   "execution_count": 11,
   "id": "a3947c00-91f3-4c70-a8ac-9eafc75476ce",
   "metadata": {},
   "outputs": [
    {
     "name": "stdout",
     "output_type": "stream",
     "text": [
      "Addition:  12 \n",
      " multiplication:  32 \n",
      " Division:  2.0 \n",
      " Squared number:  16 \n",
      " Cubed Number:  512 \n",
      "\n"
     ]
    }
   ],
   "source": [
    "# addition \n",
    "number1 = 4\n",
    "number2 = 8 \n",
    "addedNumber = number1 + number2 \n",
    "# multiplication \n",
    "multipliedNumber = number1*number2\n",
    "# division \n",
    "dividedNumber = number2 / number1 \n",
    "# power \n",
    "squaredNumber = number1**2 \n",
    "cubedNumber = number2**3 \n",
    "print(\"Addition: \", addedNumber, \"\\n\",\n",
    "     \"multiplication: \", multipliedNumber, \"\\n\",\n",
    "     \"Division: \", dividedNumber, \"\\n\",\n",
    "     \"Squared number: \", squaredNumber, \"\\n\",\n",
    "     \"Cubed Number: \", cubedNumber, \"\\n\",)"
   ]
  },
  {
   "cell_type": "markdown",
   "id": "b39c187f-4d4e-4325-8112-5efa1d368f65",
   "metadata": {},
   "source": [
    "**For more arthmatic operations, use the following packages:**\n",
    "- Numpy\n",
    "    - Arthmatic operations  \n",
    "- Scipy\n",
    "    - Statistical analysis\n",
    "- Scympy\n",
    "    - Symbolic math "
   ]
  },
  {
   "cell_type": "markdown",
   "id": "07b46e45-88af-400e-838c-e0cdefa18451",
   "metadata": {},
   "source": [
    "### Boolean "
   ]
  },
  {
   "cell_type": "markdown",
   "id": "b5073ef6-10dc-4953-987c-513f5f2ac9a7",
   "metadata": {},
   "source": [
    "**The boolean type may contain *True* or *False*.**"
   ]
  },
  {
   "cell_type": "code",
   "execution_count": 12,
   "id": "524589cc-d87b-4002-9d29-5341990b285b",
   "metadata": {},
   "outputs": [],
   "source": [
    "primeNumber4 = False \n",
    "firstPrimeNumber = True "
   ]
  },
  {
   "cell_type": "markdown",
   "id": "d818fe78-66f3-4d14-a29b-f09aa8484290",
   "metadata": {},
   "source": [
    "### Conversion of one type to another type "
   ]
  },
  {
   "cell_type": "code",
   "execution_count": 13,
   "id": "1388f651-b8fe-4f73-a145-bc696cc311f5",
   "metadata": {},
   "outputs": [
    {
     "name": "stdout",
     "output_type": "stream",
     "text": [
      "number: <class 'int'> \n",
      " floatNumber: <class 'float'> \n",
      " numberString: <class 'str'> \n",
      " floatNumberString: <class 'str'>\n"
     ]
    }
   ],
   "source": [
    "# You can convert numbers and floats to string variables. \n",
    "number = 21 \n",
    "floatNumber = 21.21 \n",
    "numberString , floatNumberString = str(number), str(floatNumber)\n",
    "print(\"number:\", type(number), \"\\n\", \n",
    "     \"floatNumber:\", type(floatNumber), \"\\n\", \n",
    "     \"numberString:\", type(numberString), \"\\n\", \n",
    "     \"floatNumberString:\", type(floatNumberString))"
   ]
  },
  {
   "cell_type": "code",
   "execution_count": 14,
   "id": "dcbdb5cc-adc4-495e-b0ba-0de46670bc70",
   "metadata": {},
   "outputs": [
    {
     "name": "stdout",
     "output_type": "stream",
     "text": [
      "number string: <class 'str'> \n",
      " float string: <class 'str'> \n",
      " numberInteger: <class 'int'> \n",
      " floatNumberInteger: <class 'float'>\n"
     ]
    }
   ],
   "source": [
    "# You can convert strings containing numbers to integer. \n",
    "numberString = \"2\"\n",
    "floatString = \"2.3\"\n",
    "numberInteger , floatNumberInteger = int(numberString), float(floatString)\n",
    "print(\"number string:\", type(numberString), \"\\n\", \n",
    "     \"float string:\", type(floatString), \"\\n\", \n",
    "     \"numberInteger:\", type(numberInteger), \"\\n\", \n",
    "     \"floatNumberInteger:\", type(floatNumberInteger))"
   ]
  },
  {
   "cell_type": "code",
   "execution_count": 20,
   "id": "e5af9b9e-556f-4755-8bb3-a99977d161cf",
   "metadata": {},
   "outputs": [
    {
     "name": "stdin",
     "output_type": "stream",
     "text": [
      "OK to proceed:  1\n"
     ]
    }
   ],
   "source": [
    "status = bool(input('OK to proceed: '))"
   ]
  },
  {
   "cell_type": "code",
   "execution_count": 21,
   "id": "43a5848a-d7c5-4668-a1ae-747c3f5d79d1",
   "metadata": {},
   "outputs": [
    {
     "name": "stdout",
     "output_type": "stream",
     "text": [
      "True\n",
      "<class 'bool'>\n"
     ]
    }
   ],
   "source": [
    "print(status)\n",
    "print(type(status))"
   ]
  },
  {
   "cell_type": "markdown",
   "id": "84d4cf0a-c0b8-41aa-a80a-2a08c3ad6c84",
   "metadata": {},
   "source": [
    "## Basic types of collection types in python"
   ]
  },
  {
   "cell_type": "markdown",
   "id": "30875f4f-2c40-4f82-a490-233dd13d6699",
   "metadata": {},
   "source": [
    "- A collection is a signle object representing a group of objects. You can also call them containers. "
   ]
  },
  {
   "cell_type": "markdown",
   "id": "2da3ce6d-f633-4934-8853-fc34238834b5",
   "metadata": {},
   "source": [
    "### List "
   ]
  },
  {
   "cell_type": "markdown",
   "id": "2f4dc444-8e2b-4d64-b06d-ff0e959f4566",
   "metadata": {},
   "source": [
    "**Basic features of list**"
   ]
  },
  {
   "cell_type": "markdown",
   "id": "e312a471-124b-4c7b-8831-c35516f35fbc",
   "metadata": {},
   "source": [
    "- List is mutable. You can add or remove elements from a list.\n",
    "- Elements are ordered in a list.\n",
    "    - Elements in a list keep their order until its modified.\n",
    "- A list can contain different types of elements.\n",
    "- "
   ]
  },
  {
   "cell_type": "markdown",
   "id": "e09daf64-52bf-41f8-aac8-868cc9a86974",
   "metadata": {},
   "source": [
    "**How to create a list**"
   ]
  },
  {
   "cell_type": "code",
   "execution_count": 22,
   "id": "8c2bea35-b38a-4774-accb-bab91ed39407",
   "metadata": {},
   "outputs": [],
   "source": [
    "list1 = [2, 3, 5, 7, 11, 13, 17, 19, 23, 29, 31, 37, 2, 3, 5, 7, 11, 13, 17, 19, 23, 29, 31, 37, 2, 3, 5, 7, 11,2]\n",
    "list1_word = list((\n",
    "    \"two\", \"three\", \"five\", \"seven\", \"eleven\", \"thirteen\", \"seventeen\", \"nineteen\", \n",
    "    \"twenty-three\", \"twenty-nine\", \"thirty-one\", \"thirty-seven\", \n",
    "    \"two\", \"three\", \"five\", \"seven\", \"eleven\", \"thirteen\", \"seventeen\", \"nineteen\", \n",
    "    \"twenty-three\", \"twenty-nine\", \"thirty-one\", \"thirty-seven\", \n",
    "    \"two\", \"three\", \"five\", \"seven\", \"eleven\", \"two\"\n",
    "))\n",
    "listMixed = [2, 3, 5, 7, 11,\"thirteen\", \"seventeen\", \"nineteen\", \"twenty-three\"]\n",
    "listPrimeShort = [2,3,5]"
   ]
  },
  {
   "cell_type": "markdown",
   "id": "2247935e-d25f-4d42-a411-6aa34d1985b2",
   "metadata": {},
   "source": [
    "**How to amend a list**"
   ]
  },
  {
   "cell_type": "code",
   "execution_count": 23,
   "id": "00678d5b-ac7d-4dc4-a271-0758d4850a63",
   "metadata": {},
   "outputs": [
    {
     "name": "stdout",
     "output_type": "stream",
     "text": [
      "[2, 3, 5, 7]\n"
     ]
    }
   ],
   "source": [
    "# You can use append to add ONE element\n",
    "listPrimeShort.append(7)\n",
    "print(listPrimeShort)"
   ]
  },
  {
   "cell_type": "code",
   "execution_count": 24,
   "id": "d6960d8e-d402-40e4-93f1-d13d292b1545",
   "metadata": {},
   "outputs": [
    {
     "name": "stdout",
     "output_type": "stream",
     "text": [
      "[2, 3, 5, 7, 11, 13]\n"
     ]
    }
   ],
   "source": [
    "# You can use extend to add MORE THAN ONE elements. \n",
    "listPrimeShort.extend([11, 13])\n",
    "print(listPrimeShort)"
   ]
  },
  {
   "cell_type": "code",
   "execution_count": 25,
   "id": "30fcefd3-52aa-4029-9629-7c0f1f9a6d34",
   "metadata": {},
   "outputs": [
    {
     "name": "stdout",
     "output_type": "stream",
     "text": [
      "[2, 23, 3, 5, 7, 11, 13]\n"
     ]
    }
   ],
   "source": [
    "# You can use insert(), if you want to insert an element in specific position. \n",
    "listPrimeShort.insert(1, # first argument is the index of element\n",
    "                      23 # second argument is the element itself\n",
    "                     )\n",
    "print(listPrimeShort)"
   ]
  },
  {
   "cell_type": "markdown",
   "id": "651432f5-ae31-4c04-a1ed-e8634889b167",
   "metadata": {},
   "source": [
    "**Operation on a list**"
   ]
  },
  {
   "cell_type": "code",
   "execution_count": 26,
   "id": "4389bf48-dd29-4513-ac56-13d5243ba952",
   "metadata": {},
   "outputs": [
    {
     "name": "stdout",
     "output_type": "stream",
     "text": [
      "[2, 3, 5, 7, 11, 13, 17, 19]\n"
     ]
    }
   ],
   "source": [
    "# You can add to lists \n",
    "list1 = [2, 3, 5, 7]\n",
    "list2 = [11, 13, 17, 19]\n",
    "list3 = list1 + list2 \n",
    "print(list3)"
   ]
  },
  {
   "cell_type": "markdown",
   "id": "b19ef564-4548-455c-9113-b6bd9c7c632c",
   "metadata": {},
   "source": [
    "### Tuple "
   ]
  },
  {
   "cell_type": "markdown",
   "id": "ee5b1b5b-e347-4b88-8a8c-16133c08d243",
   "metadata": {},
   "source": [
    "**Basic features of tuple**"
   ]
  },
  {
   "cell_type": "markdown",
   "id": "83d4060f-d57a-4912-889f-a84775b456fa",
   "metadata": {},
   "source": [
    "- Tuple is immutable.\n",
    "    - This is the main difference between lists and tuples. \n",
    "- Tuple is ordered. Every element has an index and can be called by its index.\n",
    "- Elements can be repeated in tuples.\n",
    "- We use comma (,) to separate elements in tuple. "
   ]
  },
  {
   "cell_type": "markdown",
   "id": "5c4889f0-84cc-441d-ba63-bb16773da5e1",
   "metadata": {},
   "source": [
    "**How to create a tuple**\n",
    "- You can use *()* or *tuple()* to create tuple. "
   ]
  },
  {
   "cell_type": "code",
   "execution_count": 15,
   "id": "a9a06b3b-3c06-4f4a-b052-4ceb10fb1c18",
   "metadata": {},
   "outputs": [],
   "source": [
    "# create a tuple with ()\n",
    "tuple1 = (2, 3, 5, 7, 11, 13, 17, 19, 23, 29, 31, 37, 2, 3, 5, 7, 11, 13, 17, 19, 23, 29, 31, 37, 2, 3, 5, 7, 11,2)\n",
    "# create a tuple using tuple()\n",
    "tuple2 = tuple((43, 47, 53, 59, 61, 67, 71, 73, 79, 83, 89, 97))"
   ]
  },
  {
   "cell_type": "code",
   "execution_count": 9,
   "id": "c374ce74-c277-48bf-ab01-08c1764fed2e",
   "metadata": {},
   "outputs": [
    {
     "name": "stdout",
     "output_type": "stream",
     "text": [
      "<class 'tuple'> \n",
      " <class 'tuple'>\n"
     ]
    }
   ],
   "source": [
    "print(type(tuple1), \"\\n\",  \n",
    "     type(tuple2))"
   ]
  },
  {
   "cell_type": "code",
   "execution_count": null,
   "id": "b2a3640f-cbb0-4ade-9537-31ec09514a62",
   "metadata": {},
   "outputs": [],
   "source": [
    "tuple1_word = (\n",
    "    \"two\", \"three\", \"five\", \"seven\", \"eleven\", \"thirteen\", \"seventeen\", \"nineteen\", \n",
    "    \"twenty-three\", \"twenty-nine\", \"thirty-one\", \"thirty-seven\", \n",
    "    \"two\", \"three\", \"five\", \"seven\", \"eleven\", \"thirteen\", \"seventeen\", \"nineteen\", \n",
    "    \"twenty-three\", \"twenty-nine\", \"thirty-one\", \"thirty-seven\", \n",
    "    \"two\", \"three\", \"five\", \"seven\", \"eleven\", \"two\"\n",
    ")"
   ]
  },
  {
   "cell_type": "markdown",
   "id": "9b7c73ef-63b7-479b-a1f6-c8442ff55883",
   "metadata": {},
   "source": [
    "**How to amend a tuple**"
   ]
  },
  {
   "cell_type": "markdown",
   "id": "b9887e9f-8b1c-48ce-aa6d-a4450d6da5f9",
   "metadata": {},
   "source": [
    "- The basic feature of tuple is to be immutable. Therefore, tuples cannot be amended. "
   ]
  },
  {
   "cell_type": "markdown",
   "id": "463cb431-a185-4650-8cee-0a4dd994daaf",
   "metadata": {},
   "source": [
    "**Operation on a tuple**"
   ]
  },
  {
   "cell_type": "code",
   "execution_count": 16,
   "id": "f2413cf1-7951-40df-beb7-916f273472a5",
   "metadata": {},
   "outputs": [
    {
     "name": "stdout",
     "output_type": "stream",
     "text": [
      "thirteen\n"
     ]
    }
   ],
   "source": [
    "# access the items through their index \n",
    "print(tuple1_word[5])"
   ]
  },
  {
   "cell_type": "code",
   "execution_count": 18,
   "id": "c510ef4c-c137-4645-b77d-211687614589",
   "metadata": {},
   "outputs": [
    {
     "name": "stdout",
     "output_type": "stream",
     "text": [
      "4\n"
     ]
    }
   ],
   "source": [
    "# Find the index of an element\n",
    "print(tuple1_word.index('eleven'))"
   ]
  },
  {
   "cell_type": "code",
   "execution_count": 12,
   "id": "ec1a5a4f-f20b-4667-a0bd-fb8bd9ca9b0f",
   "metadata": {},
   "outputs": [
    {
     "name": "stdout",
     "output_type": "stream",
     "text": [
      "30\n"
     ]
    }
   ],
   "source": [
    "# count the number of items in a tuple \n",
    "print(len(tuple1))"
   ]
  },
  {
   "cell_type": "code",
   "execution_count": 13,
   "id": "e32e9171-7c5e-4f66-9765-82b4fa59e44b",
   "metadata": {},
   "outputs": [
    {
     "name": "stdout",
     "output_type": "stream",
     "text": [
      "4\n"
     ]
    }
   ],
   "source": [
    "# repretition of items in a tuple\n",
    "print(tuple1.count(2))"
   ]
  },
  {
   "cell_type": "markdown",
   "id": "a734acd2-e624-476c-a964-b7ef6105405e",
   "metadata": {},
   "source": [
    "---\n",
    "---"
   ]
  },
  {
   "cell_type": "markdown",
   "id": "06b9c308-bd21-440d-aa7f-d3d8abdfa314",
   "metadata": {},
   "source": [
    "### Set "
   ]
  },
  {
   "cell_type": "markdown",
   "id": "1a7a471b-23a5-4171-818a-de4b59b2c1f2",
   "metadata": {},
   "source": [
    "**Basic features of set**"
   ]
  },
  {
   "cell_type": "markdown",
   "id": "bc565aba-a62a-43dd-976e-bd991e0b0f63",
   "metadata": {},
   "source": [
    "- Set is unordered (no index) and mutable container in python.\n",
    "- **Set does not duplication.**\n",
    "- Items cannot replace elements in a set.\n",
    "- "
   ]
  },
  {
   "cell_type": "markdown",
   "id": "b793ea0e-273f-40a3-8ec6-b61ef1dd7e54",
   "metadata": {},
   "source": [
    "**How to create a set**"
   ]
  },
  {
   "cell_type": "code",
   "execution_count": 20,
   "id": "61d5866e-dd20-4484-ad2d-1c3209afc448",
   "metadata": {},
   "outputs": [],
   "source": [
    "# Set can be defined by {}. \n",
    "set1 = {2, 3, 5, 7, 11,}\n",
    "# Set can be defined by set command: \n",
    "set2 = set([\"two\", \"three\", \"five\", \"seven\", \"eleven\", \"thirteen\", \"seventeen\", \"nineteen\"])"
   ]
  },
  {
   "cell_type": "markdown",
   "id": "b6dc688d-e00c-40de-995f-9240c47676bc",
   "metadata": {},
   "source": [
    "**How to amend a set**"
   ]
  },
  {
   "cell_type": "code",
   "execution_count": 21,
   "id": "45af10a0-b2b3-4251-89c6-23480953f403",
   "metadata": {},
   "outputs": [
    {
     "name": "stdout",
     "output_type": "stream",
     "text": [
      "{2, 3, 5, 7, 11}\n",
      "{2, 3, 5, 7, 11, 13}\n"
     ]
    }
   ],
   "source": [
    "# Use 'add()' to insert an element into a set \n",
    "print(set1)\n",
    "set1.add(13)\n",
    "print(set1)"
   ]
  },
  {
   "cell_type": "code",
   "execution_count": 22,
   "id": "c7bf3abe-1426-41ce-a227-3ebc7e6bcd3c",
   "metadata": {},
   "outputs": [
    {
     "name": "stdout",
     "output_type": "stream",
     "text": [
      "{2, 3, 5, 7, 11, 13}\n",
      "{17, 2, 3, 19, 5, 7, 11, 13}\n"
     ]
    }
   ],
   "source": [
    "# Use 'update()' to add more than one element into a set \n",
    "print(set1)\n",
    "set1.update([17, 19])\n",
    "print(set1)"
   ]
  },
  {
   "cell_type": "code",
   "execution_count": 23,
   "id": "b0bd5fa0-ed71-454d-9fe0-a5f9a95685c8",
   "metadata": {},
   "outputs": [
    {
     "name": "stdout",
     "output_type": "stream",
     "text": [
      "{17, 2, 3, 19, 5, 7, 11, 13}\n",
      "{2, 3, 19, 5, 7, 11, 13}\n",
      "{2, 3, 5, 7, 11, 13}\n"
     ]
    }
   ],
   "source": [
    "# Use 'remove()' or 'discard()' to remove an item from a set.\n",
    "print(set1)\n",
    "set1.remove(17)\n",
    "print(set1)\n",
    "set1.discard(19)\n",
    "print(set1)"
   ]
  },
  {
   "cell_type": "markdown",
   "id": "78644742-e2fa-461c-b1cb-f335c92ce89c",
   "metadata": {},
   "source": [
    "**Operation on a set**"
   ]
  },
  {
   "cell_type": "code",
   "execution_count": 10,
   "id": "021e0dca-effe-4956-ac99-a2c09717321e",
   "metadata": {},
   "outputs": [
    {
     "name": "stdout",
     "output_type": "stream",
     "text": [
      "The set has the element 'two'.\n"
     ]
    }
   ],
   "source": [
    "# Check existence of an element 'in' a set \n",
    "if \"two\" in set2: \n",
    "    print(\"The set has the element 'two'.\")\n",
    "else: \n",
    "    print(\"No such element in set2\")"
   ]
  },
  {
   "cell_type": "code",
   "execution_count": 18,
   "id": "a6104cdf-0f8e-4eab-b4c8-54c61dd63841",
   "metadata": {},
   "outputs": [
    {
     "name": "stdout",
     "output_type": "stream",
     "text": [
      "8\n"
     ]
    }
   ],
   "source": [
    "# Check the length of a set \n",
    "print(len(set1))"
   ]
  },
  {
   "cell_type": "code",
   "execution_count": 25,
   "id": "bbcff63d-8d6f-49e9-8812-e6b43246210a",
   "metadata": {},
   "outputs": [
    {
     "name": "stdout",
     "output_type": "stream",
     "text": [
      "{1, 2, 3, 4, 5, 6, 7}\n"
     ]
    }
   ],
   "source": [
    "# Python has mathematical operation on sets as well:\n",
    "set1 = {1,2,3,4,5}\n",
    "set2 = {3,4,5,6,7}\n",
    "set3 = {6,7,8,9,10}\n",
    "# Use 'union()' to combine two sets. Remember that sets do not allow duplication. \n",
    "print(set1.union(set2))"
   ]
  },
  {
   "cell_type": "code",
   "execution_count": 27,
   "id": "a99fcec6-974d-4ff4-beaa-0ac92539e123",
   "metadata": {},
   "outputs": [
    {
     "name": "stdout",
     "output_type": "stream",
     "text": [
      "{3, 4, 5} set()\n"
     ]
    }
   ],
   "source": [
    "# Use 'intersection' to find out about the shared elements between two sets \n",
    "print(set1.intersection(set2), set1.intersection(set3))"
   ]
  },
  {
   "cell_type": "code",
   "execution_count": 28,
   "id": "8658de04-f3f8-4ecf-834b-207bda7301d1",
   "metadata": {},
   "outputs": [
    {
     "name": "stdout",
     "output_type": "stream",
     "text": [
      "{1, 2}\n"
     ]
    }
   ],
   "source": [
    "# use '-' to find out the elements exist in one set but does not exist in another set.\n",
    "print(set1 - set2)"
   ]
  },
  {
   "cell_type": "markdown",
   "id": "5280d6d2-81d9-42a6-bb97-b896f733e18c",
   "metadata": {},
   "source": [
    "---\n",
    "---"
   ]
  },
  {
   "cell_type": "markdown",
   "id": "174b475f-f33d-4efe-9c71-b54cd8b53999",
   "metadata": {},
   "source": [
    "### Dictionary"
   ]
  },
  {
   "cell_type": "markdown",
   "id": "975c5a47-aa89-434b-a84e-a00f50712403",
   "metadata": {},
   "source": [
    "**Basic features of dictionary**"
   ]
  },
  {
   "cell_type": "markdown",
   "id": "ec64f1a9-94c4-45d8-b2f7-6c784389c60a",
   "metadata": {},
   "source": [
    "- Dictionary is a collection of keys and values that connected to each other.\n",
    "- You can not have duplicated keys but you can have duplicated values. \n",
    "- Dictionary is unordered, mutable and indexed."
   ]
  },
  {
   "cell_type": "markdown",
   "id": "cf9f5513-cdde-4ad5-938c-4ad51789e347",
   "metadata": {},
   "source": [
    "**How to create a dictionary**"
   ]
  },
  {
   "cell_type": "code",
   "execution_count": 42,
   "id": "cff76eaa-1e04-4606-9dde-89427c492b65",
   "metadata": {},
   "outputs": [
    {
     "name": "stdout",
     "output_type": "stream",
     "text": [
      "{2: 'two', 3: 'three', 5: 'five'} \n",
      " {7: 'seven', 11: 'eleven', 13: 'thirteen'}\n"
     ]
    }
   ],
   "source": [
    "# Use '{}' to create a dictionary \n",
    "dict1 = {2:'two', 3:'three', 5:'five'}\n",
    "# Use 'dict()' to create a dictionary \n",
    "dict2 = dict([(7, 'seven'), (11, 'eleven'), (13, 'thirteen')])\n",
    "print(dict1, \"\\n\",\n",
    "     dict2)"
   ]
  },
  {
   "cell_type": "code",
   "execution_count": 43,
   "id": "896b95bd-3a94-43f2-93a7-a9cd75d133a6",
   "metadata": {},
   "outputs": [
    {
     "name": "stdout",
     "output_type": "stream",
     "text": [
      "two\n"
     ]
    }
   ],
   "source": [
    "# Access each value by calling associated key \n",
    "print(dict1[2])"
   ]
  },
  {
   "cell_type": "code",
   "execution_count": 44,
   "id": "787a04fd-0c24-4b97-8003-f6808ac66051",
   "metadata": {},
   "outputs": [
    {
     "data": {
      "text/plain": [
       "'three'"
      ]
     },
     "execution_count": 44,
     "metadata": {},
     "output_type": "execute_result"
    }
   ],
   "source": [
    "# Use 'get()' to access each value by calling associated key\n",
    "dict1.get(3)"
   ]
  },
  {
   "cell_type": "code",
   "execution_count": 27,
   "id": "016447ed-93da-40c1-8a06-97cbf7405ebd",
   "metadata": {},
   "outputs": [],
   "source": [
    "# Use '{}' to create a dictionary \n",
    "dict1 = {2:'two', 2:'three', 5:'five'}"
   ]
  },
  {
   "cell_type": "markdown",
   "id": "d2a1ca31-d909-49a6-9666-0e4181ebf476",
   "metadata": {},
   "source": [
    "**Keys and values can be any types.**"
   ]
  },
  {
   "cell_type": "markdown",
   "id": "8b6d2d4d-d629-4326-ab56-b5731dcc0371",
   "metadata": {},
   "source": [
    "---\n",
    "---"
   ]
  },
  {
   "cell_type": "markdown",
   "id": "a5e9fa45-39be-42e1-abab-d1cfa90874e6",
   "metadata": {},
   "source": [
    "**How to amend a dictionary**"
   ]
  },
  {
   "cell_type": "code",
   "execution_count": 45,
   "id": "6c450eee-5f4e-4d97-b80e-cfd952bcd983",
   "metadata": {},
   "outputs": [
    {
     "name": "stdout",
     "output_type": "stream",
     "text": [
      "{7: 'seven', 11: 'eleven', 13: 'thirteen'}\n",
      "{7: 'seven', 11: 'eleven', 13: 'thirteen', 19: 'nineteen'}\n"
     ]
    }
   ],
   "source": [
    "# Add a key, value pairs by using '[]'\n",
    "print(dict2)\n",
    "dict2[19] = 'nineteen'\n",
    "print(dict2)"
   ]
  },
  {
   "cell_type": "code",
   "execution_count": 46,
   "id": "4f2de76f-dba3-4018-bbb2-0cc86b8100bf",
   "metadata": {},
   "outputs": [
    {
     "name": "stdout",
     "output_type": "stream",
     "text": [
      "{7: 'seven', 11: 'eleven', 13: 'thirteen', 19: 'nineteen'}\n",
      "{7: 'seven', 11: 'eleven', 13: 'thirteen'}\n",
      "{7: 'seven', 11: 'eleven'}\n",
      "{7: 'seven'}\n",
      "{7: 'seven', 11: 'eleven', 13: 'thirteen'}\n",
      "{}\n"
     ]
    }
   ],
   "source": [
    "# Various ways to removing an item from a dictionary \n",
    "## use 'pop.items()' to remove the last inserted key-value pair. \n",
    "print(dict2)\n",
    "dict2.popitem()\n",
    "print(dict2)\n",
    "# use 'pop()' to remove a key-value pair using key \n",
    "dict2.pop(13)\n",
    "print(dict2)\n",
    "# use 'del' to remove a key-value pair using key \n",
    "del dict2[11]\n",
    "print(dict2)\n",
    "# use 'clear()' to remove all key-value pairs in a dictionary \n",
    "dict2 = dict([(7, 'seven'), (11, 'eleven'), (13, 'thirteen')])\n",
    "print(dict2)\n",
    "dict2.clear()\n",
    "print(dict2)"
   ]
  },
  {
   "cell_type": "markdown",
   "id": "f115ae36-37f8-4b9e-8f8c-c8852d5ed246",
   "metadata": {},
   "source": [
    "---\n",
    "---"
   ]
  },
  {
   "cell_type": "markdown",
   "id": "9e2a2618-8c31-4678-95cd-93de0ea91d62",
   "metadata": {},
   "source": [
    "## Comparison - If statements"
   ]
  },
  {
   "cell_type": "markdown",
   "id": "6dbd27d8-378d-40fa-94c8-1ec257c4dd4b",
   "metadata": {},
   "source": [
    "**If statements are used to compare one variable with another.**"
   ]
  },
  {
   "cell_type": "code",
   "execution_count": 1,
   "id": "04c62561-5dfd-45da-8dd5-d1d7fcedde77",
   "metadata": {},
   "outputs": [],
   "source": [
    "var1 = 3 \n",
    "var2 = 5 "
   ]
  },
  {
   "cell_type": "code",
   "execution_count": 2,
   "id": "7d8df1ed-2883-4397-b1fe-cde0aad7c450",
   "metadata": {},
   "outputs": [
    {
     "name": "stdout",
     "output_type": "stream",
     "text": [
      "Variable 1 is smaller than variable 2.\n"
     ]
    }
   ],
   "source": [
    "if var1 > var2: \n",
    "    print('Variable 1 is bigger than variable 2.')\n",
    "elif var1 < var2: \n",
    "    print('Variable 1 is smaller than variable 2.')\n",
    "else: \n",
    "    print('comparison unseccessful!')"
   ]
  },
  {
   "cell_type": "markdown",
   "id": "568c9ffe-480c-4561-90bf-3767abae1586",
   "metadata": {},
   "source": [
    "---\n",
    "---"
   ]
  },
  {
   "cell_type": "markdown",
   "id": "6ea651a5-f5a3-4dce-bf5f-19a13bcb0457",
   "metadata": {},
   "source": [
    "## Iteration"
   ]
  },
  {
   "cell_type": "markdown",
   "id": "49d782e7-0bfd-443b-bea8-fe7ff4c0d819",
   "metadata": {},
   "source": [
    "### For Loops"
   ]
  },
  {
   "cell_type": "markdown",
   "id": "12e416ee-8ee6-47be-8fcb-06169010e249",
   "metadata": {},
   "source": [
    "**You can use *for* loop to iteratre over collection types.**"
   ]
  },
  {
   "cell_type": "code",
   "execution_count": 49,
   "id": "fe4855ab-5386-41f8-bc64-60ecae7a5b06",
   "metadata": {},
   "outputs": [],
   "source": [
    "list1 = [2, 3, 5, 7]\n",
    "tuple1 = (11, 13, 17, 19,)\n",
    "set1 = set()\n",
    "dict1 = {2:'two', 3:'three', 5:'five', 7:'seven', 11:'eleven'}"
   ]
  },
  {
   "cell_type": "code",
   "execution_count": 4,
   "id": "a1cdcb12-e9b2-4ad0-821d-aaf9553c4007",
   "metadata": {},
   "outputs": [
    {
     "name": "stdout",
     "output_type": "stream",
     "text": [
      "3\n",
      "4\n",
      "6\n",
      "8\n"
     ]
    }
   ],
   "source": [
    "for element in list1: \n",
    "    newValue = element + 1 \n",
    "    print(newValue)"
   ]
  },
  {
   "cell_type": "code",
   "execution_count": 5,
   "id": "0f1b70dc-bf61-463c-aab1-4313c0590351",
   "metadata": {},
   "outputs": [
    {
     "name": "stdout",
     "output_type": "stream",
     "text": [
      "1331\n",
      "2197\n",
      "4913\n",
      "6859\n"
     ]
    }
   ],
   "source": [
    "for item in tuple1: \n",
    "    newItem = item**3\n",
    "    print(newItem)"
   ]
  },
  {
   "cell_type": "code",
   "execution_count": 50,
   "id": "c8e09593-d5ab-488b-aecf-6d354928ce05",
   "metadata": {},
   "outputs": [
    {
     "name": "stdout",
     "output_type": "stream",
     "text": [
      "2 4\n",
      "3 6\n",
      "5 10\n",
      "7 14\n",
      "11 22\n"
     ]
    }
   ],
   "source": [
    "# iteration over dictionary can be over keys, over values or both: \n",
    "## iteration over keys\n",
    "for key in dict1.keys():\n",
    "    print(key, key*2)"
   ]
  },
  {
   "cell_type": "code",
   "execution_count": 51,
   "id": "52e8d61d-8c07-4e99-b4e9-201f03b2c267",
   "metadata": {},
   "outputs": [
    {
     "name": "stdout",
     "output_type": "stream",
     "text": [
      "two number\n",
      "three number\n",
      "five number\n",
      "seven number\n",
      "eleven number\n"
     ]
    }
   ],
   "source": [
    "## iteration over values\n",
    "for value in dict1.values():\n",
    "    newValue = value + ' number'\n",
    "    print(newValue)"
   ]
  },
  {
   "cell_type": "code",
   "execution_count": 53,
   "id": "ebd728d2-eaba-4176-a855-d9790f13697b",
   "metadata": {},
   "outputs": [
    {
     "name": "stdout",
     "output_type": "stream",
     "text": [
      "4 :  Squared root two\n",
      "6 :  Squared root three\n",
      "10 :  Squared root five\n",
      "14 :  Squared root seven\n",
      "22 :  Squared root eleven\n"
     ]
    }
   ],
   "source": [
    "## iteration over keys and values \n",
    "for key, value in dict1.items():\n",
    "    print(key*2, ': ', 'Squared root ' + value)"
   ]
  },
  {
   "cell_type": "markdown",
   "id": "494082a0-9ece-48ba-a8e1-96d0bd721685",
   "metadata": {},
   "source": [
    "---\n",
    "---"
   ]
  },
  {
   "cell_type": "markdown",
   "id": "04960463-5fbc-4c16-bdc8-d376a89fd3dc",
   "metadata": {},
   "source": [
    "### While Loops"
   ]
  },
  {
   "cell_type": "markdown",
   "id": "03f87d6b-2beb-43f0-beaa-34046a2cd203",
   "metadata": {},
   "source": [
    "**While loops are used to iterate as long as a condition is fulfilled**"
   ]
  },
  {
   "cell_type": "code",
   "execution_count": 7,
   "id": "233eaef1-3eb8-4c3d-a941-ae4a7eb2583b",
   "metadata": {},
   "outputs": [
    {
     "name": "stdout",
     "output_type": "stream",
     "text": [
      "Starting\n",
      "0  1  2  3  4  5  6  7  8  9  Done\n"
     ]
    }
   ],
   "source": [
    "count = 0 \n",
    "print('Starting') \n",
    "while count < 10: \n",
    "    print(count, ' ', end='') # part of the while loop \n",
    "    count += 1 # also part of the while loop \n",
    "print('Done')\n"
   ]
  },
  {
   "cell_type": "markdown",
   "id": "c30c8c52-5203-486f-9e66-82c6616fa430",
   "metadata": {},
   "source": [
    "---\n",
    "---"
   ]
  },
  {
   "cell_type": "markdown",
   "id": "e455b3ae-7959-44e8-b8cc-a9be532a9ab8",
   "metadata": {},
   "source": [
    "## Introduction to Pandas package "
   ]
  },
  {
   "cell_type": "markdown",
   "id": "075fc1a0-eacb-446c-90c9-736447a5331d",
   "metadata": {},
   "source": [
    "### What is Pandas for?"
   ]
  },
  {
   "cell_type": "markdown",
   "id": "878be43e-9292-424b-8a27-55a1259931f8",
   "metadata": {},
   "source": [
    "- Pandas is the package for data wrangling and data manipulation in python.\n",
    "- Originally Pandas were developed to handle time-series data. However, it covers almost all functionality requires for cross-sectional data manipulation as well."
   ]
  },
  {
   "cell_type": "markdown",
   "id": "eaed5f89-8170-4f88-a676-1ddb8d5c5055",
   "metadata": {},
   "source": [
    "### Basic types in Pandas "
   ]
  },
  {
   "cell_type": "markdown",
   "id": "b2f20203-c3ad-4199-8df7-484ba62def34",
   "metadata": {},
   "source": [
    "- Pandas has two types:\n",
    "    - Series\n",
    "        - One-dimensional data \n",
    "    - Dataframe\n",
    "        - More than one-dimensional data "
   ]
  },
  {
   "cell_type": "markdown",
   "id": "5aa84ae5-b190-47d2-b1d8-a7296ca28a5f",
   "metadata": {},
   "source": [
    "**Data in Pandas types**\n",
    "- You can import your data, almost in all formats, into pandas types.\n",
    "    - To import excel sheets you need an extra package 'xlrd'. You just install it and pandas uses this package. \n",
    "- You can also convert collection types into pandas types. "
   ]
  },
  {
   "cell_type": "markdown",
   "id": "f52e7431-d528-42ae-8b19-e08c207129de",
   "metadata": {},
   "source": [
    "---\n",
    "---"
   ]
  },
  {
   "cell_type": "markdown",
   "id": "a2d7247c-30af-44c1-a5e3-fc72e116caf5",
   "metadata": {},
   "source": [
    "### Conversion of basic types to Pandas type"
   ]
  },
  {
   "cell_type": "code",
   "execution_count": 44,
   "id": "75f0bd20-e1ea-4ac4-b8df-9ea9c0941858",
   "metadata": {},
   "outputs": [],
   "source": [
    "# Pandas should be import before any of its method is called. \n",
    "# Alias pd tradtionally used for Pandas\n",
    "import pandas as pd "
   ]
  },
  {
   "cell_type": "code",
   "execution_count": 45,
   "id": "e852d762-82b0-4d03-9a96-f7b0b56e5cf6",
   "metadata": {},
   "outputs": [
    {
     "data": {
      "text/html": [
       "<div>\n",
       "<style scoped>\n",
       "    .dataframe tbody tr th:only-of-type {\n",
       "        vertical-align: middle;\n",
       "    }\n",
       "\n",
       "    .dataframe tbody tr th {\n",
       "        vertical-align: top;\n",
       "    }\n",
       "\n",
       "    .dataframe thead th {\n",
       "        text-align: right;\n",
       "    }\n",
       "</style>\n",
       "<table border=\"1\" class=\"dataframe\">\n",
       "  <thead>\n",
       "    <tr style=\"text-align: right;\">\n",
       "      <th></th>\n",
       "      <th>Capital</th>\n",
       "      <th>Country</th>\n",
       "      <th>Estimated_Population_Millions</th>\n",
       "    </tr>\n",
       "  </thead>\n",
       "  <tbody>\n",
       "    <tr>\n",
       "      <th>0</th>\n",
       "      <td>Berlin</td>\n",
       "      <td>Germany</td>\n",
       "      <td>3.6</td>\n",
       "    </tr>\n",
       "    <tr>\n",
       "      <th>1</th>\n",
       "      <td>Tokyo</td>\n",
       "      <td>Japan</td>\n",
       "      <td>14.0</td>\n",
       "    </tr>\n",
       "    <tr>\n",
       "      <th>2</th>\n",
       "      <td>Canberra</td>\n",
       "      <td>Australia</td>\n",
       "      <td>0.4</td>\n",
       "    </tr>\n",
       "    <tr>\n",
       "      <th>3</th>\n",
       "      <td>Ottawa</td>\n",
       "      <td>Canada</td>\n",
       "      <td>1.0</td>\n",
       "    </tr>\n",
       "    <tr>\n",
       "      <th>4</th>\n",
       "      <td>Brasília</td>\n",
       "      <td>Brazil</td>\n",
       "      <td>3.1</td>\n",
       "    </tr>\n",
       "  </tbody>\n",
       "</table>\n",
       "</div>"
      ],
      "text/plain": [
       "    Capital    Country  Estimated_Population_Millions\n",
       "0    Berlin    Germany                            3.6\n",
       "1     Tokyo      Japan                           14.0\n",
       "2  Canberra  Australia                            0.4\n",
       "3    Ottawa     Canada                            1.0\n",
       "4  Brasília     Brazil                            3.1"
      ]
     },
     "execution_count": 45,
     "metadata": {},
     "output_type": "execute_result"
    }
   ],
   "source": [
    "# Conversion of a dictionary to Pandas's dataFrame\n",
    "## keys are variable names and values are a list of ordered values. \n",
    "data1 = {\n",
    "    'Capital': ['Berlin', 'Tokyo', 'Canberra', 'Ottawa', 'Brasília'],\n",
    "    'Country': ['Germany', 'Japan', 'Australia', 'Canada', 'Brazil'],\n",
    "    'Estimated_Population_Millions': [3.6, 14.0, 0.4, 1.0, 3.1]\n",
    "}\n",
    "\n",
    "df1 = pd.DataFrame(data1)\n",
    "df1"
   ]
  },
  {
   "cell_type": "code",
   "execution_count": 46,
   "id": "2ef4a0ea-7631-4ab1-b161-c81e9fae4315",
   "metadata": {},
   "outputs": [
    {
     "data": {
      "text/html": [
       "<div>\n",
       "<style scoped>\n",
       "    .dataframe tbody tr th:only-of-type {\n",
       "        vertical-align: middle;\n",
       "    }\n",
       "\n",
       "    .dataframe tbody tr th {\n",
       "        vertical-align: top;\n",
       "    }\n",
       "\n",
       "    .dataframe thead th {\n",
       "        text-align: right;\n",
       "    }\n",
       "</style>\n",
       "<table border=\"1\" class=\"dataframe\">\n",
       "  <thead>\n",
       "    <tr style=\"text-align: right;\">\n",
       "      <th></th>\n",
       "      <th>Capital</th>\n",
       "      <th>Country</th>\n",
       "      <th>Estimated_Population_Millions</th>\n",
       "    </tr>\n",
       "  </thead>\n",
       "  <tbody>\n",
       "    <tr>\n",
       "      <th>0</th>\n",
       "      <td>Berlin</td>\n",
       "      <td>Germany</td>\n",
       "      <td>3.6</td>\n",
       "    </tr>\n",
       "    <tr>\n",
       "      <th>1</th>\n",
       "      <td>Tokyo</td>\n",
       "      <td>Japan</td>\n",
       "      <td>14.0</td>\n",
       "    </tr>\n",
       "    <tr>\n",
       "      <th>2</th>\n",
       "      <td>Canberra</td>\n",
       "      <td>Australia</td>\n",
       "      <td>0.4</td>\n",
       "    </tr>\n",
       "    <tr>\n",
       "      <th>3</th>\n",
       "      <td>Ottawa</td>\n",
       "      <td>Canada</td>\n",
       "      <td>1.0</td>\n",
       "    </tr>\n",
       "    <tr>\n",
       "      <th>4</th>\n",
       "      <td>Brasília</td>\n",
       "      <td>Brazil</td>\n",
       "      <td>3.1</td>\n",
       "    </tr>\n",
       "  </tbody>\n",
       "</table>\n",
       "</div>"
      ],
      "text/plain": [
       "    Capital    Country  Estimated_Population_Millions\n",
       "0    Berlin    Germany                            3.6\n",
       "1     Tokyo      Japan                           14.0\n",
       "2  Canberra  Australia                            0.4\n",
       "3    Ottawa     Canada                            1.0\n",
       "4  Brasília     Brazil                            3.1"
      ]
     },
     "execution_count": 46,
     "metadata": {},
     "output_type": "execute_result"
    }
   ],
   "source": [
    "# Conversion of a dictionary to Pandas's dataFrame\n",
    "# This a nested list and dictionary. The element in the list represents a row. Keys are name of variables and values are value for that specific row\n",
    "data2 = [\n",
    "    {'Capital': 'Berlin', 'Country': 'Germany', 'Estimated_Population_Millions': 3.6},\n",
    "    {'Capital': 'Tokyo', 'Country': 'Japan', 'Estimated_Population_Millions': 14.0},\n",
    "    {'Capital': 'Canberra', 'Country': 'Australia', 'Estimated_Population_Millions': 0.4},\n",
    "    {'Capital': 'Ottawa', 'Country': 'Canada', 'Estimated_Population_Millions': 1.0},\n",
    "    {'Capital': 'Brasília', 'Country': 'Brazil', 'Estimated_Population_Millions': 3.1}\n",
    "]\n",
    "\n",
    "df2 = pd.DataFrame(data2)\n",
    "df2"
   ]
  },
  {
   "cell_type": "code",
   "execution_count": 47,
   "id": "0aba151c-cd6b-4a25-850a-56878938c9db",
   "metadata": {},
   "outputs": [
    {
     "data": {
      "text/html": [
       "<div>\n",
       "<style scoped>\n",
       "    .dataframe tbody tr th:only-of-type {\n",
       "        vertical-align: middle;\n",
       "    }\n",
       "\n",
       "    .dataframe tbody tr th {\n",
       "        vertical-align: top;\n",
       "    }\n",
       "\n",
       "    .dataframe thead th {\n",
       "        text-align: right;\n",
       "    }\n",
       "</style>\n",
       "<table border=\"1\" class=\"dataframe\">\n",
       "  <thead>\n",
       "    <tr style=\"text-align: right;\">\n",
       "      <th></th>\n",
       "      <th>Capital</th>\n",
       "      <th>Country</th>\n",
       "      <th>Estimated_Population_Millions</th>\n",
       "    </tr>\n",
       "  </thead>\n",
       "  <tbody>\n",
       "    <tr>\n",
       "      <th>0</th>\n",
       "      <td>Berlin</td>\n",
       "      <td>Germany</td>\n",
       "      <td>3.6</td>\n",
       "    </tr>\n",
       "    <tr>\n",
       "      <th>1</th>\n",
       "      <td>Tokyo</td>\n",
       "      <td>Japan</td>\n",
       "      <td>14.0</td>\n",
       "    </tr>\n",
       "    <tr>\n",
       "      <th>2</th>\n",
       "      <td>Canberra</td>\n",
       "      <td>Australia</td>\n",
       "      <td>0.4</td>\n",
       "    </tr>\n",
       "    <tr>\n",
       "      <th>3</th>\n",
       "      <td>Ottawa</td>\n",
       "      <td>Canada</td>\n",
       "      <td>1.0</td>\n",
       "    </tr>\n",
       "    <tr>\n",
       "      <th>4</th>\n",
       "      <td>Brasília</td>\n",
       "      <td>Brazil</td>\n",
       "      <td>3.1</td>\n",
       "    </tr>\n",
       "  </tbody>\n",
       "</table>\n",
       "</div>"
      ],
      "text/plain": [
       "    Capital    Country  Estimated_Population_Millions\n",
       "0    Berlin    Germany                            3.6\n",
       "1     Tokyo      Japan                           14.0\n",
       "2  Canberra  Australia                            0.4\n",
       "3    Ottawa     Canada                            1.0\n",
       "4  Brasília     Brazil                            3.1"
      ]
     },
     "execution_count": 47,
     "metadata": {},
     "output_type": "execute_result"
    }
   ],
   "source": [
    "# Conversion of a list to Pandas's dataFrame\n",
    "# The list only includes values of each row for a set of variables.  \n",
    "# We need to pass on a separate this with names of variables.\n",
    "data3 = [\n",
    "    ['Berlin', 'Germany', 3.6],\n",
    "    ['Tokyo', 'Japan', 14.0],\n",
    "    ['Canberra', 'Australia', 0.4],\n",
    "    ['Ottawa', 'Canada', 1.0],\n",
    "    ['Brasília', 'Brazil', 3.1]\n",
    "]\n",
    "\n",
    "col1 = ['Capital', 'Country', 'Estimated_Population_Millions']\n",
    "\n",
    "df3 = pd.DataFrame(data3, columns=col1)\n",
    "df3"
   ]
  },
  {
   "cell_type": "markdown",
   "id": "8f797dd7-7894-4515-b4ae-0c56abefb5f2",
   "metadata": {},
   "source": [
    "### Importing dataset in Pandas dataframe"
   ]
  },
  {
   "cell_type": "code",
   "execution_count": 56,
   "id": "a0181d0b-df54-4d3f-a67c-03d011dcc9ea",
   "metadata": {},
   "outputs": [],
   "source": [
    "# Use'read_excel' to read a dataset into pandas dataframe. \n",
    "addressTip = \"python_intro_data/tips.xlsx\"\n",
    "dfTips = pd.read_excel(addressTip)"
   ]
  },
  {
   "cell_type": "markdown",
   "id": "689d087b-8352-48dc-b5da-b9e1da1aa1e6",
   "metadata": {},
   "source": [
    "---\n",
    "---"
   ]
  },
  {
   "cell_type": "markdown",
   "id": "611043f1-c4fe-4365-8587-9a19fc8a7182",
   "metadata": {},
   "source": [
    "### Some basic operations in pandas dataframe"
   ]
  },
  {
   "cell_type": "code",
   "execution_count": 57,
   "id": "71ed76fd-93d9-41e1-a063-366aee65f823",
   "metadata": {},
   "outputs": [
    {
     "data": {
      "text/html": [
       "<div>\n",
       "<style scoped>\n",
       "    .dataframe tbody tr th:only-of-type {\n",
       "        vertical-align: middle;\n",
       "    }\n",
       "\n",
       "    .dataframe tbody tr th {\n",
       "        vertical-align: top;\n",
       "    }\n",
       "\n",
       "    .dataframe thead th {\n",
       "        text-align: right;\n",
       "    }\n",
       "</style>\n",
       "<table border=\"1\" class=\"dataframe\">\n",
       "  <thead>\n",
       "    <tr style=\"text-align: right;\">\n",
       "      <th></th>\n",
       "      <th>total_bill</th>\n",
       "      <th>tip</th>\n",
       "      <th>sex</th>\n",
       "      <th>smoker</th>\n",
       "      <th>day</th>\n",
       "      <th>time</th>\n",
       "      <th>size</th>\n",
       "    </tr>\n",
       "  </thead>\n",
       "  <tbody>\n",
       "    <tr>\n",
       "      <th>0</th>\n",
       "      <td>16.99</td>\n",
       "      <td>1.01</td>\n",
       "      <td>Female</td>\n",
       "      <td>No</td>\n",
       "      <td>Sun</td>\n",
       "      <td>Dinner</td>\n",
       "      <td>2.0</td>\n",
       "    </tr>\n",
       "    <tr>\n",
       "      <th>1</th>\n",
       "      <td>10.34</td>\n",
       "      <td>1.66</td>\n",
       "      <td>Male</td>\n",
       "      <td>No</td>\n",
       "      <td>Sun</td>\n",
       "      <td>Dinner</td>\n",
       "      <td>3.0</td>\n",
       "    </tr>\n",
       "    <tr>\n",
       "      <th>2</th>\n",
       "      <td>21.01</td>\n",
       "      <td>3.50</td>\n",
       "      <td>Male</td>\n",
       "      <td>No</td>\n",
       "      <td>Sun</td>\n",
       "      <td>Dinner</td>\n",
       "      <td>3.0</td>\n",
       "    </tr>\n",
       "    <tr>\n",
       "      <th>3</th>\n",
       "      <td>23.68</td>\n",
       "      <td>3.31</td>\n",
       "      <td>Male</td>\n",
       "      <td>No</td>\n",
       "      <td>Sun</td>\n",
       "      <td>Dinner</td>\n",
       "      <td>2.0</td>\n",
       "    </tr>\n",
       "    <tr>\n",
       "      <th>4</th>\n",
       "      <td>24.59</td>\n",
       "      <td>3.61</td>\n",
       "      <td>Female</td>\n",
       "      <td>No</td>\n",
       "      <td>Sun</td>\n",
       "      <td>Dinner</td>\n",
       "      <td>4.0</td>\n",
       "    </tr>\n",
       "  </tbody>\n",
       "</table>\n",
       "</div>"
      ],
      "text/plain": [
       "   total_bill   tip     sex smoker  day    time  size\n",
       "0       16.99  1.01  Female     No  Sun  Dinner   2.0\n",
       "1       10.34  1.66    Male     No  Sun  Dinner   3.0\n",
       "2       21.01  3.50    Male     No  Sun  Dinner   3.0\n",
       "3       23.68  3.31    Male     No  Sun  Dinner   2.0\n",
       "4       24.59  3.61  Female     No  Sun  Dinner   4.0"
      ]
     },
     "execution_count": 57,
     "metadata": {},
     "output_type": "execute_result"
    }
   ],
   "source": [
    "dfTips.head(5)"
   ]
  },
  {
   "cell_type": "code",
   "execution_count": 58,
   "id": "b7326ff1-bd6e-4cd4-9f55-ca0a87024dff",
   "metadata": {},
   "outputs": [
    {
     "data": {
      "text/html": [
       "<div>\n",
       "<style scoped>\n",
       "    .dataframe tbody tr th:only-of-type {\n",
       "        vertical-align: middle;\n",
       "    }\n",
       "\n",
       "    .dataframe tbody tr th {\n",
       "        vertical-align: top;\n",
       "    }\n",
       "\n",
       "    .dataframe thead th {\n",
       "        text-align: right;\n",
       "    }\n",
       "</style>\n",
       "<table border=\"1\" class=\"dataframe\">\n",
       "  <thead>\n",
       "    <tr style=\"text-align: right;\">\n",
       "      <th></th>\n",
       "      <th>total_bill</th>\n",
       "      <th>tip</th>\n",
       "      <th>size</th>\n",
       "    </tr>\n",
       "  </thead>\n",
       "  <tbody>\n",
       "    <tr>\n",
       "      <th>count</th>\n",
       "      <td>238.000000</td>\n",
       "      <td>242.000000</td>\n",
       "      <td>241.000000</td>\n",
       "    </tr>\n",
       "    <tr>\n",
       "      <th>mean</th>\n",
       "      <td>19.824832</td>\n",
       "      <td>3.004050</td>\n",
       "      <td>2.580913</td>\n",
       "    </tr>\n",
       "    <tr>\n",
       "      <th>std</th>\n",
       "      <td>8.957398</td>\n",
       "      <td>1.387629</td>\n",
       "      <td>0.950158</td>\n",
       "    </tr>\n",
       "    <tr>\n",
       "      <th>min</th>\n",
       "      <td>3.070000</td>\n",
       "      <td>1.000000</td>\n",
       "      <td>1.000000</td>\n",
       "    </tr>\n",
       "    <tr>\n",
       "      <th>25%</th>\n",
       "      <td>13.302500</td>\n",
       "      <td>2.000000</td>\n",
       "      <td>2.000000</td>\n",
       "    </tr>\n",
       "    <tr>\n",
       "      <th>50%</th>\n",
       "      <td>17.795000</td>\n",
       "      <td>2.960000</td>\n",
       "      <td>2.000000</td>\n",
       "    </tr>\n",
       "    <tr>\n",
       "      <th>75%</th>\n",
       "      <td>24.075000</td>\n",
       "      <td>3.587500</td>\n",
       "      <td>3.000000</td>\n",
       "    </tr>\n",
       "    <tr>\n",
       "      <th>max</th>\n",
       "      <td>50.810000</td>\n",
       "      <td>10.000000</td>\n",
       "      <td>6.000000</td>\n",
       "    </tr>\n",
       "  </tbody>\n",
       "</table>\n",
       "</div>"
      ],
      "text/plain": [
       "       total_bill         tip        size\n",
       "count  238.000000  242.000000  241.000000\n",
       "mean    19.824832    3.004050    2.580913\n",
       "std      8.957398    1.387629    0.950158\n",
       "min      3.070000    1.000000    1.000000\n",
       "25%     13.302500    2.000000    2.000000\n",
       "50%     17.795000    2.960000    2.000000\n",
       "75%     24.075000    3.587500    3.000000\n",
       "max     50.810000   10.000000    6.000000"
      ]
     },
     "execution_count": 58,
     "metadata": {},
     "output_type": "execute_result"
    }
   ],
   "source": [
    "# descriptive statistics \n",
    "dfTips.describe()"
   ]
  },
  {
   "cell_type": "code",
   "execution_count": 59,
   "id": "bd59ef46-578b-4d92-bc16-ac1cdb82bbaf",
   "metadata": {},
   "outputs": [
    {
     "name": "stdout",
     "output_type": "stream",
     "text": [
      "day\n",
      "Sat     86\n",
      "Sun     72\n",
      "Thur    60\n",
      "Fri     19\n",
      "Name: count, dtype: int64 \n",
      " time\n",
      "Dinner    0.72314\n",
      "Lunch     0.27686\n",
      "Name: proportion, dtype: float64\n"
     ]
    }
   ],
   "source": [
    "# Frequency in categorical variables\n",
    "print(dfTips[\"day\"].value_counts(), \"\\n\",\n",
    "      dfTips['time'].value_counts(normalize=True))"
   ]
  },
  {
   "cell_type": "code",
   "execution_count": 60,
   "id": "3d670353-1336-4333-bd7d-c8f0b1bef598",
   "metadata": {},
   "outputs": [
    {
     "data": {
      "text/html": [
       "<div>\n",
       "<style scoped>\n",
       "    .dataframe tbody tr th:only-of-type {\n",
       "        vertical-align: middle;\n",
       "    }\n",
       "\n",
       "    .dataframe tbody tr th {\n",
       "        vertical-align: top;\n",
       "    }\n",
       "\n",
       "    .dataframe thead th {\n",
       "        text-align: right;\n",
       "    }\n",
       "</style>\n",
       "<table border=\"1\" class=\"dataframe\">\n",
       "  <thead>\n",
       "    <tr style=\"text-align: right;\">\n",
       "      <th></th>\n",
       "      <th>total_bill</th>\n",
       "      <th>tip</th>\n",
       "      <th>sex</th>\n",
       "      <th>smoker</th>\n",
       "      <th>day</th>\n",
       "      <th>time</th>\n",
       "      <th>size</th>\n",
       "    </tr>\n",
       "  </thead>\n",
       "  <tbody>\n",
       "    <tr>\n",
       "      <th>0</th>\n",
       "      <td>16.99</td>\n",
       "      <td>1.01</td>\n",
       "      <td>Female</td>\n",
       "      <td>No</td>\n",
       "      <td>Sun</td>\n",
       "      <td>Dinner</td>\n",
       "      <td>2.0</td>\n",
       "    </tr>\n",
       "    <tr>\n",
       "      <th>1</th>\n",
       "      <td>10.34</td>\n",
       "      <td>1.66</td>\n",
       "      <td>Male</td>\n",
       "      <td>No</td>\n",
       "      <td>Sun</td>\n",
       "      <td>Dinner</td>\n",
       "      <td>3.0</td>\n",
       "    </tr>\n",
       "    <tr>\n",
       "      <th>2</th>\n",
       "      <td>21.01</td>\n",
       "      <td>3.50</td>\n",
       "      <td>Male</td>\n",
       "      <td>No</td>\n",
       "      <td>Sun</td>\n",
       "      <td>Dinner</td>\n",
       "      <td>3.0</td>\n",
       "    </tr>\n",
       "    <tr>\n",
       "      <th>3</th>\n",
       "      <td>23.68</td>\n",
       "      <td>3.31</td>\n",
       "      <td>Male</td>\n",
       "      <td>No</td>\n",
       "      <td>Sun</td>\n",
       "      <td>Dinner</td>\n",
       "      <td>2.0</td>\n",
       "    </tr>\n",
       "    <tr>\n",
       "      <th>4</th>\n",
       "      <td>24.59</td>\n",
       "      <td>3.61</td>\n",
       "      <td>Female</td>\n",
       "      <td>No</td>\n",
       "      <td>Sun</td>\n",
       "      <td>Dinner</td>\n",
       "      <td>4.0</td>\n",
       "    </tr>\n",
       "    <tr>\n",
       "      <th>...</th>\n",
       "      <td>...</td>\n",
       "      <td>...</td>\n",
       "      <td>...</td>\n",
       "      <td>...</td>\n",
       "      <td>...</td>\n",
       "      <td>...</td>\n",
       "      <td>...</td>\n",
       "    </tr>\n",
       "    <tr>\n",
       "      <th>239</th>\n",
       "      <td>29.03</td>\n",
       "      <td>5.92</td>\n",
       "      <td>Male</td>\n",
       "      <td>No</td>\n",
       "      <td>Sat</td>\n",
       "      <td>Dinner</td>\n",
       "      <td>3.0</td>\n",
       "    </tr>\n",
       "    <tr>\n",
       "      <th>240</th>\n",
       "      <td>27.18</td>\n",
       "      <td>2.00</td>\n",
       "      <td>Female</td>\n",
       "      <td>Yes</td>\n",
       "      <td>Sat</td>\n",
       "      <td>Dinner</td>\n",
       "      <td>2.0</td>\n",
       "    </tr>\n",
       "    <tr>\n",
       "      <th>241</th>\n",
       "      <td>22.67</td>\n",
       "      <td>2.00</td>\n",
       "      <td>Male</td>\n",
       "      <td>Yes</td>\n",
       "      <td>Sat</td>\n",
       "      <td>Dinner</td>\n",
       "      <td>2.0</td>\n",
       "    </tr>\n",
       "    <tr>\n",
       "      <th>242</th>\n",
       "      <td>17.82</td>\n",
       "      <td>1.75</td>\n",
       "      <td>Male</td>\n",
       "      <td>No</td>\n",
       "      <td>Sat</td>\n",
       "      <td>Dinner</td>\n",
       "      <td>2.0</td>\n",
       "    </tr>\n",
       "    <tr>\n",
       "      <th>243</th>\n",
       "      <td>NaN</td>\n",
       "      <td>3.00</td>\n",
       "      <td>Female</td>\n",
       "      <td>No</td>\n",
       "      <td>Thur</td>\n",
       "      <td>Dinner</td>\n",
       "      <td>2.0</td>\n",
       "    </tr>\n",
       "  </tbody>\n",
       "</table>\n",
       "<p>175 rows × 7 columns</p>\n",
       "</div>"
      ],
      "text/plain": [
       "     total_bill   tip     sex smoker   day    time  size\n",
       "0         16.99  1.01  Female     No   Sun  Dinner   2.0\n",
       "1         10.34  1.66    Male     No   Sun  Dinner   3.0\n",
       "2         21.01  3.50    Male     No   Sun  Dinner   3.0\n",
       "3         23.68  3.31    Male     No   Sun  Dinner   2.0\n",
       "4         24.59  3.61  Female     No   Sun  Dinner   4.0\n",
       "..          ...   ...     ...    ...   ...     ...   ...\n",
       "239       29.03  5.92    Male     No   Sat  Dinner   3.0\n",
       "240       27.18  2.00  Female    Yes   Sat  Dinner   2.0\n",
       "241       22.67  2.00    Male    Yes   Sat  Dinner   2.0\n",
       "242       17.82  1.75    Male     No   Sat  Dinner   2.0\n",
       "243         NaN  3.00  Female     No  Thur  Dinner   2.0\n",
       "\n",
       "[175 rows x 7 columns]"
      ]
     },
     "execution_count": 60,
     "metadata": {},
     "output_type": "execute_result"
    }
   ],
   "source": [
    "# selection of data \n",
    "dfDinner = dfTips[dfTips['time'] == 'Dinner']\n",
    "dfDinner"
   ]
  },
  {
   "cell_type": "code",
   "execution_count": 61,
   "id": "e6a978c6-4a2d-4cf1-91f4-104fee4fe2a0",
   "metadata": {},
   "outputs": [
    {
     "data": {
      "text/plain": [
       "total_bill    3\n",
       "tip           2\n",
       "sex           2\n",
       "smoker        3\n",
       "day           5\n",
       "time          0\n",
       "size          2\n",
       "dtype: int64"
      ]
     },
     "execution_count": 61,
     "metadata": {},
     "output_type": "execute_result"
    }
   ],
   "source": [
    "# Check the missing value \n",
    "dfDinner.isna().sum()"
   ]
  },
  {
   "cell_type": "code",
   "execution_count": 64,
   "id": "66e4c069-7895-4fa9-be0c-12a3dd8a9b5d",
   "metadata": {},
   "outputs": [
    {
     "name": "stdout",
     "output_type": "stream",
     "text": [
      "175 159\n"
     ]
    }
   ],
   "source": [
    "# Use dropna to drop observations with a missing value  \n",
    "dfDinnerClean = dfDinner.dropna()\n",
    "print(len(dfDinner), len(dfDinnerClean))"
   ]
  },
  {
   "cell_type": "code",
   "execution_count": 65,
   "id": "974fd1f4-7578-4aa2-9d52-84321afafd8e",
   "metadata": {},
   "outputs": [
    {
     "name": "stdout",
     "output_type": "stream",
     "text": [
      "175 170 159\n"
     ]
    }
   ],
   "source": [
    "# Use argument subset to drop observations that have missing values for a certain variables. \n",
    "dfDinnerClean1 = dfDinner.dropna(subset=['total_bill', 'tip'])\n",
    "print(len(dfDinner), len(dfDinnerClean1), len(dfDinnerClean))"
   ]
  },
  {
   "cell_type": "code",
   "execution_count": 66,
   "id": "e6f2f2fa-a113-4a6e-9f9f-22cf687f1805",
   "metadata": {},
   "outputs": [
    {
     "data": {
      "text/plain": [
       "total_bill    0\n",
       "tip           0\n",
       "sex           0\n",
       "smoker        0\n",
       "day           0\n",
       "time          0\n",
       "size          0\n",
       "dtype: int64"
      ]
     },
     "execution_count": 66,
     "metadata": {},
     "output_type": "execute_result"
    }
   ],
   "source": [
    "# Use 'fillna()' to fill out the missing values with a specific value \n",
    "dfDinnerFilled = dfDinner.fillna(value=0, axis=1)\n",
    "dfDinnerFilled.isna().sum()"
   ]
  },
  {
   "cell_type": "code",
   "execution_count": 67,
   "id": "8c4168e4-2ad2-4639-8c04-96fa12dbe23e",
   "metadata": {},
   "outputs": [
    {
     "data": {
      "text/plain": [
       "total_bill    0\n",
       "tip           2\n",
       "sex           2\n",
       "smoker        3\n",
       "day           5\n",
       "time          0\n",
       "size          2\n",
       "dtype: int64"
      ]
     },
     "execution_count": 67,
     "metadata": {},
     "output_type": "execute_result"
    }
   ],
   "source": [
    "# Fill out a specific column \n",
    "## make a copy of the dataset\n",
    "dfDinnerFilledTip = dfDinner.copy()\n",
    "## replace the column that you want to fill out in the new dataset with a one that you fill out \n",
    "dfDinnerFilledTip['total_bill'] = dfDinner['total_bill'].fillna(0)\n",
    "dfDinnerFilledTip.isna().sum()"
   ]
  },
  {
   "cell_type": "code",
   "execution_count": 10,
   "id": "4ce8df55-6dd8-4a2c-8c2d-56c888863a32",
   "metadata": {},
   "outputs": [
    {
     "data": {
      "text/html": [
       "<div>\n",
       "<style scoped>\n",
       "    .dataframe tbody tr th:only-of-type {\n",
       "        vertical-align: middle;\n",
       "    }\n",
       "\n",
       "    .dataframe tbody tr th {\n",
       "        vertical-align: top;\n",
       "    }\n",
       "\n",
       "    .dataframe thead th {\n",
       "        text-align: right;\n",
       "    }\n",
       "</style>\n",
       "<table border=\"1\" class=\"dataframe\">\n",
       "  <thead>\n",
       "    <tr style=\"text-align: right;\">\n",
       "      <th></th>\n",
       "      <th>tip</th>\n",
       "      <th>total_bill</th>\n",
       "    </tr>\n",
       "    <tr>\n",
       "      <th>smoker</th>\n",
       "      <th></th>\n",
       "      <th></th>\n",
       "    </tr>\n",
       "  </thead>\n",
       "  <tbody>\n",
       "    <tr>\n",
       "      <th>No</th>\n",
       "      <td>2.991854</td>\n",
       "      <td>19.188278</td>\n",
       "    </tr>\n",
       "    <tr>\n",
       "      <th>Yes</th>\n",
       "      <td>3.008710</td>\n",
       "      <td>20.756344</td>\n",
       "    </tr>\n",
       "  </tbody>\n",
       "</table>\n",
       "</div>"
      ],
      "text/plain": [
       "             tip  total_bill\n",
       "smoker                      \n",
       "No      2.991854   19.188278\n",
       "Yes     3.008710   20.756344"
      ]
     },
     "execution_count": 10,
     "metadata": {},
     "output_type": "execute_result"
    }
   ],
   "source": [
    "# Use 'groupby()' command to do calculation at a group level \n",
    "dfSomker = dfTips.groupby('smoker')[['tip','total_bill']].mean()\n",
    "dfSomker"
   ]
  },
  {
   "cell_type": "markdown",
   "id": "f97ada8c-6f75-4865-94f7-08021cfe68c2",
   "metadata": {},
   "source": [
    "---\n",
    "---"
   ]
  },
  {
   "cell_type": "markdown",
   "id": "21833fcc-df5f-4005-b7b2-2a6b08fa951e",
   "metadata": {},
   "source": [
    "## Introduction to Seaborn - Matplotlib "
   ]
  },
  {
   "cell_type": "markdown",
   "id": "35ac2776-6cc5-4cdf-bce1-1b98c082b556",
   "metadata": {},
   "source": [
    "- Matplotlib is the basic for data visualization in python.\n",
    "- Seaborn, another visalization package, is developed on basis of matplotlib. It is much easier to use and figures produced by seaborn look better.\n",
    "    - That means that you need to import matplotlib to be able to use seaborn.  "
   ]
  },
  {
   "cell_type": "markdown",
   "id": "c361c261-cd39-48f0-904f-ef303b17bc30",
   "metadata": {},
   "source": [
    "---\n",
    "---"
   ]
  },
  {
   "cell_type": "code",
   "execution_count": 11,
   "id": "b861910a-ebbc-47f8-9d3b-9eb063a620a2",
   "metadata": {},
   "outputs": [],
   "source": [
    "import matplotlib.pyplot as plt \n",
    "import seaborn as sns "
   ]
  },
  {
   "cell_type": "markdown",
   "id": "d86cd678-9011-459f-aac5-f06da554af4c",
   "metadata": {},
   "source": [
    "---\n",
    "---"
   ]
  },
  {
   "cell_type": "markdown",
   "id": "b63880a0-666f-4cbc-9827-fe4256e6fbc9",
   "metadata": {},
   "source": [
    "### Single variable"
   ]
  },
  {
   "cell_type": "markdown",
   "id": "b4fe7881-b3a8-40b8-b8f5-1f3cdefd32fb",
   "metadata": {},
   "source": [
    "**Continuous Variable**"
   ]
  },
  {
   "cell_type": "code",
   "execution_count": 12,
   "id": "56ee0bd9-e32c-40fe-8b28-284893bfd56a",
   "metadata": {},
   "outputs": [
    {
     "data": {
      "text/plain": [
       "<Axes: ylabel='tip'>"
      ]
     },
     "execution_count": 12,
     "metadata": {},
     "output_type": "execute_result"
    },
    {
     "data": {
      "image/png": "[encoded data removed]",
      "text/plain": [
       "<Figure size 640x480 with 1 Axes>"
      ]
     },
     "metadata": {},
     "output_type": "display_data"
    }
   ],
   "source": [
    "# Boxplot \n",
    "sns.boxplot(y='tip',\n",
    "           data=dfTips)"
   ]
  },
  {
   "cell_type": "code",
   "execution_count": 13,
   "id": "3ff668f6-c159-4a06-a257-c4191d7500b2",
   "metadata": {},
   "outputs": [
    {
     "data": {
      "text/plain": [
       "<Axes: ylabel='tip'>"
      ]
     },
     "execution_count": 13,
     "metadata": {},
     "output_type": "execute_result"
    },
    {
     "data": {
      "image/png": "[encoded data removed]",
      "text/plain": [
       "<Figure size 640x480 with 1 Axes>"
      ]
     },
     "metadata": {},
     "output_type": "display_data"
    }
   ],
   "source": [
    "# Boxplot \n",
    "sns.barplot(y='tip',\n",
    "           data=dfTips)"
   ]
  },
  {
   "cell_type": "code",
   "execution_count": 14,
   "id": "3a4c6229-6c4c-4fa2-9265-18e5a1dfb52a",
   "metadata": {},
   "outputs": [
    {
     "data": {
      "text/plain": [
       "<seaborn.axisgrid.FacetGrid at 0x225ff1b0820>"
      ]
     },
     "execution_count": 14,
     "metadata": {},
     "output_type": "execute_result"
    },
    {
     "data": {
      "image/png": "[encoded data removed]",
      "text/plain": [
       "<Figure size 500x500 with 1 Axes>"
      ]
     },
     "metadata": {},
     "output_type": "display_data"
    }
   ],
   "source": [
    "sns.displot(data=dfTips, x=\"total_bill\", kde=True)"
   ]
  },
  {
   "cell_type": "markdown",
   "id": "1c7f6c13-51b1-4472-b91e-7774491f9ed7",
   "metadata": {},
   "source": [
    "---\n",
    "---"
   ]
  },
  {
   "cell_type": "markdown",
   "id": "21a96f9c-9147-49d6-a3d3-845530ec0f10",
   "metadata": {},
   "source": [
    "**Categorical variable**"
   ]
  },
  {
   "cell_type": "code",
   "execution_count": 16,
   "id": "b70c7c42-bdd0-4afc-8730-cbddf848f744",
   "metadata": {},
   "outputs": [
    {
     "data": {
      "text/plain": [
       "<Axes: xlabel='smoker', ylabel='count'>"
      ]
     },
     "execution_count": 16,
     "metadata": {},
     "output_type": "execute_result"
    },
    {
     "data": {
      "image/png": "[encoded data removed]",
      "text/plain": [
       "<Figure size 640x480 with 1 Axes>"
      ]
     },
     "metadata": {},
     "output_type": "display_data"
    }
   ],
   "source": [
    "# Use 'countplot()' plot a categorical variable \n",
    "sns.countplot(data=dfTips, x=\"smoker\")"
   ]
  },
  {
   "cell_type": "code",
   "execution_count": 18,
   "id": "0a90200d-30d1-4b17-9dc7-b98782a76715",
   "metadata": {},
   "outputs": [
    {
     "data": {
      "text/plain": [
       "<Axes: xlabel='smoker', ylabel='percent'>"
      ]
     },
     "execution_count": 18,
     "metadata": {},
     "output_type": "execute_result"
    },
    {
     "data": {
      "image/png": "[encoded data removed]",
      "text/plain": [
       "<Figure size 640x480 with 1 Axes>"
      ]
     },
     "metadata": {},
     "output_type": "display_data"
    }
   ],
   "source": [
    "# Use argument 'stat' to plot percentage or probability of a category \n",
    "sns.countplot(data=dfTips, x=\"smoker\", stat='percent')"
   ]
  },
  {
   "cell_type": "markdown",
   "id": "a0a60844-863a-4d37-b79e-2c9e5a63dd05",
   "metadata": {},
   "source": [
    "---\n",
    "---"
   ]
  },
  {
   "cell_type": "markdown",
   "id": "f33fb5ee-cd6d-45fb-859b-9317e0d83ebb",
   "metadata": {},
   "source": [
    "### Two variables "
   ]
  },
  {
   "cell_type": "markdown",
   "id": "e9279e96-ad15-47e2-af25-a56cb5251e87",
   "metadata": {},
   "source": [
    "**Continious versus continuous variables** "
   ]
  },
  {
   "cell_type": "code",
   "execution_count": 20,
   "id": "c7d64f0d-7fc0-4e4a-ab6f-e7d13260e57c",
   "metadata": {},
   "outputs": [
    {
     "data": {
      "text/plain": [
       "<Axes: xlabel='total_bill', ylabel='tip'>"
      ]
     },
     "execution_count": 20,
     "metadata": {},
     "output_type": "execute_result"
    },
    {
     "data": {
      "image/png": "[encoded data removed]",
      "text/plain": [
       "<Figure size 640x480 with 1 Axes>"
      ]
     },
     "metadata": {},
     "output_type": "display_data"
    }
   ],
   "source": [
    "# Use 'scatterplot()' to plot two continuous variable against each other\n",
    "sns.scatterplot(data=dfTips, x=\"total_bill\", y=\"tip\")"
   ]
  },
  {
   "cell_type": "code",
   "execution_count": null,
   "id": "ad9f2200-d90a-4f9f-8a69-653defb6f793",
   "metadata": {},
   "outputs": [],
   "source": []
  },
  {
   "cell_type": "code",
   "execution_count": 21,
   "id": "14fd5c32-f8ad-44ee-bd99-c7849543114a",
   "metadata": {},
   "outputs": [
    {
     "data": {
      "text/plain": [
       "<Axes: xlabel='total_bill', ylabel='tip'>"
      ]
     },
     "execution_count": 21,
     "metadata": {},
     "output_type": "execute_result"
    },
    {
     "data": {
      "image/png": "[encoded data removed]",
      "text/plain": [
       "<Figure size 640x480 with 1 Axes>"
      ]
     },
     "metadata": {},
     "output_type": "display_data"
    }
   ],
   "source": [
    "# Use 'lmplot()' or 'regplot' to create a regression plot \n",
    "sns.regplot(data=dfTips, x=\"total_bill\", y=\"tip\")"
   ]
  },
  {
   "cell_type": "markdown",
   "id": "88acdd80-a0d5-4e02-be95-3a6d2bd8ad3e",
   "metadata": {},
   "source": [
    "**continuous versus categorical variables** "
   ]
  },
  {
   "cell_type": "code",
   "execution_count": 24,
   "id": "34e3957e-2848-42bb-8c7f-b8ddeff43f45",
   "metadata": {},
   "outputs": [
    {
     "data": {
      "text/html": [
       "<div>\n",
       "<style scoped>\n",
       "    .dataframe tbody tr th:only-of-type {\n",
       "        vertical-align: middle;\n",
       "    }\n",
       "\n",
       "    .dataframe tbody tr th {\n",
       "        vertical-align: top;\n",
       "    }\n",
       "\n",
       "    .dataframe thead th {\n",
       "        text-align: right;\n",
       "    }\n",
       "</style>\n",
       "<table border=\"1\" class=\"dataframe\">\n",
       "  <thead>\n",
       "    <tr style=\"text-align: right;\">\n",
       "      <th></th>\n",
       "      <th>total_bill</th>\n",
       "      <th>tip</th>\n",
       "      <th>sex</th>\n",
       "      <th>smoker</th>\n",
       "      <th>day</th>\n",
       "      <th>time</th>\n",
       "      <th>size</th>\n",
       "    </tr>\n",
       "  </thead>\n",
       "  <tbody>\n",
       "    <tr>\n",
       "      <th>0</th>\n",
       "      <td>16.99</td>\n",
       "      <td>1.01</td>\n",
       "      <td>Female</td>\n",
       "      <td>No</td>\n",
       "      <td>Sun</td>\n",
       "      <td>Dinner</td>\n",
       "      <td>2</td>\n",
       "    </tr>\n",
       "    <tr>\n",
       "      <th>1</th>\n",
       "      <td>10.34</td>\n",
       "      <td>1.66</td>\n",
       "      <td>Male</td>\n",
       "      <td>No</td>\n",
       "      <td>Sun</td>\n",
       "      <td>Dinner</td>\n",
       "      <td>3</td>\n",
       "    </tr>\n",
       "    <tr>\n",
       "      <th>2</th>\n",
       "      <td>21.01</td>\n",
       "      <td>3.50</td>\n",
       "      <td>Male</td>\n",
       "      <td>No</td>\n",
       "      <td>Sun</td>\n",
       "      <td>Dinner</td>\n",
       "      <td>3</td>\n",
       "    </tr>\n",
       "    <tr>\n",
       "      <th>3</th>\n",
       "      <td>23.68</td>\n",
       "      <td>3.31</td>\n",
       "      <td>Male</td>\n",
       "      <td>No</td>\n",
       "      <td>Sun</td>\n",
       "      <td>Dinner</td>\n",
       "      <td>2</td>\n",
       "    </tr>\n",
       "    <tr>\n",
       "      <th>4</th>\n",
       "      <td>24.59</td>\n",
       "      <td>3.61</td>\n",
       "      <td>Female</td>\n",
       "      <td>No</td>\n",
       "      <td>Sun</td>\n",
       "      <td>Dinner</td>\n",
       "      <td>4</td>\n",
       "    </tr>\n",
       "    <tr>\n",
       "      <th>...</th>\n",
       "      <td>...</td>\n",
       "      <td>...</td>\n",
       "      <td>...</td>\n",
       "      <td>...</td>\n",
       "      <td>...</td>\n",
       "      <td>...</td>\n",
       "      <td>...</td>\n",
       "    </tr>\n",
       "    <tr>\n",
       "      <th>239</th>\n",
       "      <td>29.03</td>\n",
       "      <td>5.92</td>\n",
       "      <td>Male</td>\n",
       "      <td>No</td>\n",
       "      <td>Sat</td>\n",
       "      <td>Dinner</td>\n",
       "      <td>3</td>\n",
       "    </tr>\n",
       "    <tr>\n",
       "      <th>240</th>\n",
       "      <td>27.18</td>\n",
       "      <td>2.00</td>\n",
       "      <td>Female</td>\n",
       "      <td>Yes</td>\n",
       "      <td>Sat</td>\n",
       "      <td>Dinner</td>\n",
       "      <td>2</td>\n",
       "    </tr>\n",
       "    <tr>\n",
       "      <th>241</th>\n",
       "      <td>22.67</td>\n",
       "      <td>2.00</td>\n",
       "      <td>Male</td>\n",
       "      <td>Yes</td>\n",
       "      <td>Sat</td>\n",
       "      <td>Dinner</td>\n",
       "      <td>2</td>\n",
       "    </tr>\n",
       "    <tr>\n",
       "      <th>242</th>\n",
       "      <td>17.82</td>\n",
       "      <td>1.75</td>\n",
       "      <td>Male</td>\n",
       "      <td>No</td>\n",
       "      <td>Sat</td>\n",
       "      <td>Dinner</td>\n",
       "      <td>2</td>\n",
       "    </tr>\n",
       "    <tr>\n",
       "      <th>243</th>\n",
       "      <td>18.78</td>\n",
       "      <td>3.00</td>\n",
       "      <td>Female</td>\n",
       "      <td>No</td>\n",
       "      <td>Thur</td>\n",
       "      <td>Dinner</td>\n",
       "      <td>2</td>\n",
       "    </tr>\n",
       "  </tbody>\n",
       "</table>\n",
       "<p>244 rows × 7 columns</p>\n",
       "</div>"
      ],
      "text/plain": [
       "     total_bill   tip     sex smoker   day    time  size\n",
       "0         16.99  1.01  Female     No   Sun  Dinner     2\n",
       "1         10.34  1.66    Male     No   Sun  Dinner     3\n",
       "2         21.01  3.50    Male     No   Sun  Dinner     3\n",
       "3         23.68  3.31    Male     No   Sun  Dinner     2\n",
       "4         24.59  3.61  Female     No   Sun  Dinner     4\n",
       "..          ...   ...     ...    ...   ...     ...   ...\n",
       "239       29.03  5.92    Male     No   Sat  Dinner     3\n",
       "240       27.18  2.00  Female    Yes   Sat  Dinner     2\n",
       "241       22.67  2.00    Male    Yes   Sat  Dinner     2\n",
       "242       17.82  1.75    Male     No   Sat  Dinner     2\n",
       "243       18.78  3.00  Female     No  Thur  Dinner     2\n",
       "\n",
       "[244 rows x 7 columns]"
      ]
     },
     "execution_count": 24,
     "metadata": {},
     "output_type": "execute_result"
    }
   ],
   "source": [
    "dfTips"
   ]
  },
  {
   "cell_type": "code",
   "execution_count": 29,
   "id": "a4346305-f9ff-4ad5-a92c-6dda45e9d4e3",
   "metadata": {},
   "outputs": [
    {
     "data": {
      "text/plain": [
       "<seaborn.axisgrid.FacetGrid at 0x22596d23c70>"
      ]
     },
     "execution_count": 29,
     "metadata": {},
     "output_type": "execute_result"
    },
    {
     "data": {
      "image/png": "[encoded data removed]",
      "text/plain": [
       "<Figure size 511.111x500 with 1 Axes>"
      ]
     },
     "metadata": {},
     "output_type": "display_data"
    }
   ],
   "source": [
    "# use 'catplot()' to plot a continuous variable against categorical variable \n",
    "sns.catplot(data=dfTips, x=\"smoker\", y=\"tip\", kind=\"box\")"
   ]
  },
  {
   "cell_type": "code",
   "execution_count": 31,
   "id": "bb767e53-f24e-4fb3-8867-84e212661f63",
   "metadata": {},
   "outputs": [
    {
     "data": {
      "text/plain": [
       "<seaborn.axisgrid.FacetGrid at 0x22597e1ec40>"
      ]
     },
     "execution_count": 31,
     "metadata": {},
     "output_type": "execute_result"
    },
    {
     "data": {
      "image/png": "[encoded data removed]",
      "text/plain": [
       "<Figure size 511.111x500 with 1 Axes>"
      ]
     },
     "metadata": {},
     "output_type": "display_data"
    }
   ],
   "source": [
    "# use the argument 'kind' to change the type of plot you\n",
    "sns.catplot(data=dfTips, x=\"day\", y=\"tip\", kind=\"bar\")"
   ]
  },
  {
   "cell_type": "markdown",
   "id": "5ea0b1a9-fca7-4c55-8989-b49084a46391",
   "metadata": {},
   "source": [
    "**Categorical Variables versus categorical variables**"
   ]
  },
  {
   "cell_type": "markdown",
   "id": "828b1b56-8155-430f-adb2-873b59b0f07d",
   "metadata": {},
   "source": [
    "- To use *catplot()* for two categorical variables, we have to group our variables of interest"
   ]
  },
  {
   "cell_type": "code",
   "execution_count": 36,
   "id": "893d74d8-46dd-4023-a1c0-28f70cf86ec6",
   "metadata": {},
   "outputs": [
    {
     "data": {
      "text/html": [
       "<div>\n",
       "<style scoped>\n",
       "    .dataframe tbody tr th:only-of-type {\n",
       "        vertical-align: middle;\n",
       "    }\n",
       "\n",
       "    .dataframe tbody tr th {\n",
       "        vertical-align: top;\n",
       "    }\n",
       "\n",
       "    .dataframe thead th {\n",
       "        text-align: right;\n",
       "    }\n",
       "</style>\n",
       "<table border=\"1\" class=\"dataframe\">\n",
       "  <thead>\n",
       "    <tr style=\"text-align: right;\">\n",
       "      <th></th>\n",
       "      <th>sex</th>\n",
       "      <th>day</th>\n",
       "      <th>count</th>\n",
       "    </tr>\n",
       "  </thead>\n",
       "  <tbody>\n",
       "    <tr>\n",
       "      <th>0</th>\n",
       "      <td>Female</td>\n",
       "      <td>Thur</td>\n",
       "      <td>32</td>\n",
       "    </tr>\n",
       "    <tr>\n",
       "      <th>1</th>\n",
       "      <td>Female</td>\n",
       "      <td>Sat</td>\n",
       "      <td>28</td>\n",
       "    </tr>\n",
       "    <tr>\n",
       "      <th>2</th>\n",
       "      <td>Female</td>\n",
       "      <td>Sun</td>\n",
       "      <td>18</td>\n",
       "    </tr>\n",
       "    <tr>\n",
       "      <th>3</th>\n",
       "      <td>Female</td>\n",
       "      <td>Fri</td>\n",
       "      <td>9</td>\n",
       "    </tr>\n",
       "    <tr>\n",
       "      <th>4</th>\n",
       "      <td>Male</td>\n",
       "      <td>Sat</td>\n",
       "      <td>59</td>\n",
       "    </tr>\n",
       "    <tr>\n",
       "      <th>5</th>\n",
       "      <td>Male</td>\n",
       "      <td>Sun</td>\n",
       "      <td>58</td>\n",
       "    </tr>\n",
       "    <tr>\n",
       "      <th>6</th>\n",
       "      <td>Male</td>\n",
       "      <td>Thur</td>\n",
       "      <td>30</td>\n",
       "    </tr>\n",
       "    <tr>\n",
       "      <th>7</th>\n",
       "      <td>Male</td>\n",
       "      <td>Fri</td>\n",
       "      <td>10</td>\n",
       "    </tr>\n",
       "  </tbody>\n",
       "</table>\n",
       "</div>"
      ],
      "text/plain": [
       "      sex   day  count\n",
       "0  Female  Thur     32\n",
       "1  Female   Sat     28\n",
       "2  Female   Sun     18\n",
       "3  Female   Fri      9\n",
       "4    Male   Sat     59\n",
       "5    Male   Sun     58\n",
       "6    Male  Thur     30\n",
       "7    Male   Fri     10"
      ]
     },
     "execution_count": 36,
     "metadata": {},
     "output_type": "execute_result"
    }
   ],
   "source": [
    "dfTipsGrouped1 = dfTips.groupby(['sex'])['day'].value_counts().reset_index()\n",
    "dfTipsGrouped1"
   ]
  },
  {
   "cell_type": "code",
   "execution_count": 38,
   "id": "6888b719-376c-4508-ac35-87166e66df69",
   "metadata": {},
   "outputs": [
    {
     "data": {
      "text/plain": [
       "<seaborn.axisgrid.FacetGrid at 0x2259807d700>"
      ]
     },
     "execution_count": 38,
     "metadata": {},
     "output_type": "execute_result"
    },
    {
     "data": {
      "image/png": "[encoded data removed]",
      "text/plain": [
       "<Figure size 600.25x500 with 1 Axes>"
      ]
     },
     "metadata": {},
     "output_type": "display_data"
    }
   ],
   "source": [
    "# use the argument 'kind' to change the type of plot you\n",
    "sns.catplot(data=dfTipsGrouped1, x=\"day\", y=\"count\", hue='sex', kind=\"bar\")"
   ]
  },
  {
   "cell_type": "markdown",
   "id": "3d7a9f03-665a-4a4f-895f-e231c5523a2d",
   "metadata": {},
   "source": [
    "---\n",
    "---"
   ]
  },
  {
   "cell_type": "markdown",
   "id": "aa1335e4-357f-453a-81bc-86f2c1d81f79",
   "metadata": {},
   "source": [
    "## Other useful packages in python for computational social science  "
   ]
  },
  {
   "cell_type": "markdown",
   "id": "27a099a2-b8c1-4926-96a7-78a2899a430a",
   "metadata": {},
   "source": [
    "- **Data Visulization**\n",
    "    - Static\n",
    "        - Seaborn\n",
    "    - Dynamic\n",
    "        - Plotly\n",
    "- **Numerical analysis**\n",
    "    - Numpy\n",
    "- **Statistical Analysis**\n",
    "    - Scipy\n",
    "- **Econometrics**\n",
    "    - Statsmodels "
   ]
  },
  {
   "cell_type": "markdown",
   "id": "a472b646-210b-4ee7-a87d-c43ef6e4e953",
   "metadata": {},
   "source": [
    "# Some references for learning python more in depth"
   ]
  },
  {
   "cell_type": "markdown",
   "id": "4c3297a1-37d8-4f2b-a7e1-79fd5c27c170",
   "metadata": {},
   "source": [
    "- Introduction\n",
    "    - Hunt (2019), A Beginners Guide to Python 3 Programming\n",
    "\n",
    "- Data Science \n",
    "    - McKinney (2014), python for data science "
   ]
  },
  {
   "cell_type": "markdown",
   "id": "90d568c7-77f6-4a2d-ae1b-2aef0cb9a784",
   "metadata": {},
   "source": [
    "# Some YouTube tutorial for learning python "
   ]
  },
  {
   "cell_type": "markdown",
   "id": "79d40797-4cea-44b0-99ad-fee179d474a1",
   "metadata": {},
   "source": [
    "- https://www.youtube.com/watch?v=_uQrJ0TkZlc&t=109s\n",
    "- https://www.youtube.com/watch?v=YYXdXT2l-Gg&list=PL-osiE80TeTskrapNbzXhwoFUiLCjGgY7"
   ]
  },
  {
   "cell_type": "code",
   "execution_count": null,
   "id": "2a31955e-9e6d-4414-9ee7-928eba4a6021",
   "metadata": {},
   "outputs": [],
   "source": []
  }
 ],
 "metadata": {
  "kernelspec": {
   "display_name": "Python 3 (ipykernel)",
   "language": "python",
   "name": "python3"
  },
  "language_info": {
   "codemirror_mode": {
    "name": "ipython",
    "version": 3
   },
   "file_extension": ".py",
   "mimetype": "text/x-python",
   "name": "python",
   "nbconvert_exporter": "python",
   "pygments_lexer": "ipython3",
   "version": "3.9.21"
  }
 },
 "nbformat": 4,
 "nbformat_minor": 5
}
