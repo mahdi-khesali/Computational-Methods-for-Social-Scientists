{
 "cells": [
  {
   "cell_type": "markdown",
   "id": "0aee9e3f-21ca-4142-8304-a02627b5b7f5",
   "metadata": {},
   "source": [
    "# Exercises for session 2"
   ]
  },
  {
   "cell_type": "markdown",
   "id": "cf848827-1cd8-4882-9747-9f86725acfe7",
   "metadata": {},
   "source": [
    "## Exercise 2.1 \n",
    "1. Read the corpus.\n",
    "2. Create a dataframe out of the corpus with a variable containing content of each document.\n",
    "3. Create a document-frequency-matrix. "
   ]
  },
  {
   "cell_type": "markdown",
   "id": "41a24e0e-7d47-49f8-9427-576fd5747cc7",
   "metadata": {},
   "source": [
    "## Exercise 2.2\n",
    "1. Build your own preprocessor in python as a function and give it to countVectorizer() to use it.\n",
    "2. It should includes the following:\n",
    "    1. Stopword remover\n",
    "    2. Punctuation remover\n",
    "    3. Tokenizer from NLTK\n",
    "    4. Lemmatizater "
   ]
  },
  {
   "cell_type": "markdown",
   "id": "f06d8ed6-ff49-4d4b-b7f1-2603e7eadee5",
   "metadata": {},
   "source": [
    "## Exercise 2.3\n",
    "1. Convert the text to a term frequency matrix"
   ]
  },
  {
   "cell_type": "markdown",
   "id": "cce78b6d-f155-4ddb-993f-3ed77805c986",
   "metadata": {},
   "source": [
    "## Exercise 2.4\n",
    "1. Convert the texts to a TF-IDF matrix"
   ]
  },
  {
   "cell_type": "markdown",
   "id": "c8c7b049-c82a-4f12-b073-df1e8c4eabf5",
   "metadata": {},
   "source": [
    "## Exercise 2.5\n",
    "1. Write comments on a piece of code such that it explains what each part does. "
   ]
  },
  {
   "cell_type": "markdown",
   "id": "3d2ddb82-5488-4474-bd62-19d44f559e40",
   "metadata": {},
   "source": [
    "## Exercise 2.6\n",
    "1. Analyze the sentiments of preamble in constitutions and answer the following questions:\n",
    "   1. Which preamble has the highest sentiment?\n",
    "   2. Which preamble has the lowest sentiment?"
   ]
  },
  {
   "cell_type": "markdown",
   "id": "9de4752a-70d2-4063-8c95-640ddf34096c",
   "metadata": {},
   "source": [
    "## Home Work "
   ]
  },
  {
   "cell_type": "markdown",
   "id": "1f7918c1-8322-4d70-a831-1eb558210435",
   "metadata": {},
   "source": [
    "- David Law, an scholar in the field of constitutional law, argues that there are three types of preambles: liberal, statist and universal.\n",
    "- In his paper,Constitutional Archetypes, he provides evidence about these three cateogries.\n",
    "- Go through the paper from David Law and produce codes that measure these three categories in preambles of constitutions.\n",
    "- Use dictionary approach to do so. "
   ]
  },
  {
   "cell_type": "code",
   "execution_count": null,
   "id": "4a0c6455-47e2-46aa-9bfa-46dd029e8a8c",
   "metadata": {},
   "outputs": [],
   "source": []
  }
 ],
 "metadata": {
  "kernelspec": {
   "display_name": "Python 3 (ipykernel)",
   "language": "python",
   "name": "python3"
  },
  "language_info": {
   "codemirror_mode": {
    "name": "ipython",
    "version": 3
   },
   "file_extension": ".py",
   "mimetype": "text/x-python",
   "name": "python",
   "nbconvert_exporter": "python",
   "pygments_lexer": "ipython3",
   "version": "3.9.21"
  }
 },
 "nbformat": 4,
 "nbformat_minor": 5
}
