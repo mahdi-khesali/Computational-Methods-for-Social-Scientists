{
 "cells": [
  {
   "cell_type": "markdown",
   "id": "ff8e24c5-7b63-43a2-ab46-512d2f655561",
   "metadata": {},
   "source": [
    "# Text and Its Features "
   ]
  },
  {
   "cell_type": "markdown",
   "id": "9a4258aa-cf1e-4484-a17a-a39ef6549740",
   "metadata": {},
   "source": [
    "## Exercise 1.1"
   ]
  },
  {
   "cell_type": "markdown",
   "id": "8996640c-bc48-4c36-84de-0bd692421d60",
   "metadata": {},
   "source": [
    "1. Open a R-script or R-markdown and put corpusExercise in it. \n",
    "3. Import packeges that are required for text analysis in python. "
   ]
  },
  {
   "cell_type": "markdown",
   "id": "d32d6f63-f53b-4447-95ca-09742dd1f784",
   "metadata": {},
   "source": [
    "## Exercise 1.2"
   ]
  },
  {
   "cell_type": "markdown",
   "id": "38e4398a-6305-4a28-8043-fc222ca217c1",
   "metadata": {},
   "source": [
    "1. Sub-folder 'preamble' in the exercise folder contains preambles of constitutions that are in power right now. \n",
    "2. Read them into a dataframe in R. \n",
    "3. Read the csv file containing some meta-data on countries. \n",
    "4. Merge the two dataframe. "
   ]
  },
  {
   "cell_type": "markdown",
   "id": "56dc2644-e18d-44f3-807d-878e81436a47",
   "metadata": {},
   "source": [
    "## Exercise 1.3"
   ]
  },
  {
   "cell_type": "markdown",
   "id": "33bea447-cdac-4625-87ba-b7d5250cdf8f",
   "metadata": {},
   "source": []
  },
  {
   "cell_type": "markdown",
   "id": "208ddc10-c4a5-4966-aa43-7039ea44e334",
   "metadata": {},
   "source": []
  },
  {
   "cell_type": "markdown",
   "id": "4e880a74-0f30-40ee-9faf-b9263277f26f",
   "metadata": {},
   "source": [
    "## Exercise 1.4 "
   ]
  },
  {
   "cell_type": "markdown",
   "id": "0e62253a-2217-4773-80ce-027cf1b539bd",
   "metadata": {},
   "source": [
    "1. Convert the dataframe of preamble to a corpus. \n",
    "2. Look at the summary of texts. "
   ]
  },
  {
   "cell_type": "markdown",
   "id": "2f2ef974-a60c-404b-86ae-e39fa11a6ac6",
   "metadata": {},
   "source": [
    "## Exercise 1.5"
   ]
  },
  {
   "cell_type": "markdown",
   "id": "999c24ff-e5d1-4c73-936a-740b763137f0",
   "metadata": {},
   "source": []
  },
  {
   "cell_type": "markdown",
   "id": "2df6dc70-14b4-44d1-b9ab-92454eaa5594",
   "metadata": {},
   "source": [
    "## Exercise 1.6"
   ]
  },
  {
   "cell_type": "markdown",
   "id": "2ece141e-48d0-40c2-8875-3533f2d6da47",
   "metadata": {},
   "source": []
  },
  {
   "cell_type": "markdown",
   "id": "4fce6ac0-cd25-4193-8451-6d3f57644f22",
   "metadata": {},
   "source": []
  },
  {
   "cell_type": "markdown",
   "id": "8ba8fbb6-3143-46ef-8354-2201507d872b",
   "metadata": {},
   "source": []
  },
  {
   "cell_type": "code",
   "execution_count": null,
   "id": "4e430d7a-de35-48e6-ac09-180b72efe740",
   "metadata": {},
   "outputs": [],
   "source": []
  }
 ],
 "metadata": {
  "kernelspec": {
   "display_name": "Python 3 (ipykernel)",
   "language": "python",
   "name": "python3"
  },
  "language_info": {
   "codemirror_mode": {
    "name": "ipython",
    "version": 3
   },
   "file_extension": ".py",
   "mimetype": "text/x-python",
   "name": "python",
   "nbconvert_exporter": "python",
   "pygments_lexer": "ipython3",
   "version": "3.9.21"
  }
 },
 "nbformat": 4,
 "nbformat_minor": 5
}
