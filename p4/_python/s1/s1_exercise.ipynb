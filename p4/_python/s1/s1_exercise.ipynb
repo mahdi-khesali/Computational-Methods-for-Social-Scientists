{
 "cells": [
  {
   "cell_type": "markdown",
   "id": "ff8e24c5-7b63-43a2-ab46-512d2f655561",
   "metadata": {},
   "source": [
    "# Text and Its Features "
   ]
  },
  {
   "cell_type": "markdown",
   "id": "9a4258aa-cf1e-4484-a17a-a39ef6549740",
   "metadata": {},
   "source": [
    "## Exercise 1.1"
   ]
  },
  {
   "cell_type": "markdown",
   "id": "8996640c-bc48-4c36-84de-0bd692421d60",
   "metadata": {},
   "source": [
    "1. **Upload the Jupyter notebooks along with the necessary corpora and datasets to your Google Colab environment.**\n",
    "\n",
    "2. **Open a notebook for the exercises.**\n",
    "\n",
    "3. **Import the required packages for text analysis in Python.**"
   ]
  },
  {
   "cell_type": "markdown",
   "id": "d32d6f63-f53b-4447-95ca-09742dd1f784",
   "metadata": {},
   "source": [
    "## Exercise 1.2"
   ]
  },
  {
   "cell_type": "markdown",
   "id": "38e4398a-6305-4a28-8043-fc222ca217c1",
   "metadata": {},
   "source": [
    "1. The subfolder 'preamble' in the exercise directory contains the preambles of constitutions currently in force.\n",
    "2. Load these preambles into a DataFrame using Python.\n",
    "3. Load the CSV file containing metadata on countries.\n",
    "4. Merge the two DataFrames."
   ]
  },
  {
   "cell_type": "markdown",
   "id": "56dc2644-e18d-44f3-807d-878e81436a47",
   "metadata": {},
   "source": [
    "## Exercise 1.3"
   ]
  },
  {
   "cell_type": "markdown",
   "id": "33bea447-cdac-4625-87ba-b7d5250cdf8f",
   "metadata": {},
   "source": [
    "1. Answer the following questions\n",
    "   1. Which country has the lengthiest preamble?\n",
    "   2. Which country has the most difficult to read preamble?"
   ]
  },
  {
   "cell_type": "markdown",
   "id": "4e880a74-0f30-40ee-9faf-b9263277f26f",
   "metadata": {},
   "source": [
    "## Exercise 1.4\n",
    "1. Tokenize your documents."
   ]
  },
  {
   "cell_type": "markdown",
   "id": "2f2ef974-a60c-404b-86ae-e39fa11a6ac6",
   "metadata": {},
   "source": [
    "## Exercise 1.5\n",
    "1. Remove the stopwords and digits from the documents\n",
    "2. Define a set of domain-specific words that you would like to remove from the documents."
   ]
  },
  {
   "cell_type": "markdown",
   "id": "2df6dc70-14b4-44d1-b9ab-92454eaa5594",
   "metadata": {},
   "source": [
    "## Exercise 1.6\n",
    "1. Do the lemmatizing and stemming on our documents."
   ]
  }
 ],
 "metadata": {
  "kernelspec": {
   "display_name": "Python 3 (ipykernel)",
   "language": "python",
   "name": "python3"
  },
  "language_info": {
   "codemirror_mode": {
    "name": "ipython",
    "version": 3
   },
   "file_extension": ".py",
   "mimetype": "text/x-python",
   "name": "python",
   "nbconvert_exporter": "python",
   "pygments_lexer": "ipython3",
   "version": "3.9.21"
  }
 },
 "nbformat": 4,
 "nbformat_minor": 5
}
