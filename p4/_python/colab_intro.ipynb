{
 "cells": [
  {
   "cell_type": "markdown",
   "id": "00cf3031-e05b-4e18-988f-0c2af93e0573",
   "metadata": {},
   "source": [
    "# Introduction to colab"
   ]
  },
  {
   "cell_type": "markdown",
   "id": "a53c9445-995e-41ff-acf4-4d92a1efd1b7",
   "metadata": {},
   "source": [
    "## What is colab? \n",
    "- Colab is a cloud service that google offers for writing and running python code.\n",
    "- It is jupyter notebook based.\n",
    "    - Jupyter notebook is an interactive web-based platform allows users to combine codes and markdown.\n",
    "- You can write, run, share your code in colab without installing python on your system."
   ]
  },
  {
   "cell_type": "markdown",
   "id": "d88a81ae-73da-47ec-9577-e621519eabc0",
   "metadata": {},
   "source": [
    "## Why is colab useful for social scientists? \n",
    "- Installation and configuration of python on system can be challenging.\n",
    "    - No need for installation of python on personal computer. \n",
    "- Installation of packages required for the basic data science tasks can be challenging.\n",
    "    - Commonly used packages for data science is already installed on colab. One has to **import** them.   "
   ]
  },
  {
   "cell_type": "markdown",
   "id": "66155b33-16e3-4c41-87e0-7a55fab85598",
   "metadata": {},
   "source": [
    "## Requirements \n",
    "- If you have a google account, you already have an access to colab serviece. "
   ]
  },
  {
   "cell_type": "code",
   "execution_count": null,
   "id": "61065974-789f-4c55-ba1d-dfda05017816",
   "metadata": {},
   "outputs": [],
   "source": []
  }
 ],
 "metadata": {
  "kernelspec": {
   "display_name": "Python 3 (ipykernel)",
   "language": "python",
   "name": "python3"
  },
  "language_info": {
   "codemirror_mode": {
    "name": "ipython",
    "version": 3
   },
   "file_extension": ".py",
   "mimetype": "text/x-python",
   "name": "python",
   "nbconvert_exporter": "python",
   "pygments_lexer": "ipython3",
   "version": "3.9.21"
  }
 },
 "nbformat": 4,
 "nbformat_minor": 5
}
