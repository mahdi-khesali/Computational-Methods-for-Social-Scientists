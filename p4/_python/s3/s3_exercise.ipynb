{
 "cells": [
  {
   "metadata": {},
   "cell_type": "markdown",
   "source": [
    "### To Use the Code in Google Colab\n",
    "\n",
    "To run the notebooks and access the data in Google Colab, follow these steps:\n",
    "\n",
    "1. **Create a Google account** if you don't already have one. This gives you access to both Colab and Google Drive.\n",
    "\n",
    "2. **Use the shared link** provided to you to copy (clone) the notebooks into your own Google Drive.\n",
    "\n",
    "3. **Download the corpora and exercise files** from the link provided, and upload them to your Google Drive.\n",
    "\n",
    "4. **Grant Colab access to your Google Drive** by running the following code:\n",
    "\n",
    "```python\n",
    "from google.colab import drive\n",
    "drive.mount('/content/drive')\n",
    "```\n",
    "\n",
    "\n",
    "5. **You can now easily read files from your Google Drive** using standard file paths.\n",
    "\n",
    "---\n",
    "---"
   ],
   "id": "49b970e36de7702d"
  },
  {
   "cell_type": "markdown",
   "id": "e5256d69-8621-4422-bf09-65f81d5fa9d7",
   "metadata": {},
   "source": [
    "## Exercise 3.1\n",
    "1. USE LSA to elicit the 10 topics in preambles.\n",
    "2. What are the relevant words in each 10 topics."
   ]
  },
  {
   "cell_type": "markdown",
   "id": "8e38b814-57de-4c65-9c6b-ede13cf7113e",
   "metadata": {},
   "source": [
    "## Exercise 3.2\n",
    "1. Create a word embedding out of the corpus of preamble.\n",
    "2. What are the most similar words to revolution?"
   ]
  },
  {
   "cell_type": "markdown",
   "id": "e9c11c8c-ccad-4bca-a2d8-d0b5b04d62c2",
   "metadata": {},
   "source": [
    "## Exercise 3.3\n",
    "1. Visualize the most similar and different words to law\n",
    "2. Use t-SNE"
   ]
  },
  {
   "cell_type": "markdown",
   "id": "3a2940d5-e263-41d6-a805-8aa26bbb7050",
   "metadata": {},
   "source": [
    "## Exercise 3.4\n",
    "1. Visualize the most similar and different words to law\n",
    "2. Use PCA"
   ]
  },
  {
   "metadata": {},
   "cell_type": "markdown",
   "source": [
    "### Homework\n",
    "1. Download the pre-trained models that are presented in the course.\n",
    "2. Try to find out the ...\n",
    "3. ...."
   ],
   "id": "ebb7e2e480af21a7"
  },
  {
   "metadata": {},
   "cell_type": "code",
   "outputs": [],
   "execution_count": null,
   "source": "",
   "id": "21b60d3533533548"
  }
 ],
 "metadata": {
  "kernelspec": {
   "display_name": "Python 3 (ipykernel)",
   "language": "python",
   "name": "python3"
  },
  "language_info": {
   "codemirror_mode": {
    "name": "ipython",
    "version": 3
   },
   "file_extension": ".py",
   "mimetype": "text/x-python",
   "name": "python",
   "nbconvert_exporter": "python",
   "pygments_lexer": "ipython3",
   "version": "3.9.21"
  }
 },
 "nbformat": 4,
 "nbformat_minor": 5
}
