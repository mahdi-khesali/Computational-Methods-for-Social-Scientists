{
 "cells": [
  {
   "cell_type": "code",
   "execution_count": 14,
   "id": "dd399b83-838e-4476-acd6-5f6a519fd36f",
   "metadata": {},
   "outputs": [],
   "source": [
    "from gensim.models import Word2Vec\n",
    "from gensim.models import KeyedVectors\n",
    "from sklearn.manifold import TSNE\n",
    "import numpy as np \n",
    "import matplotlib.pyplot as plt"
   ]
  },
  {
   "cell_type": "markdown",
   "id": "d118ec99-38d9-4812-981f-6b6e4d772565",
   "metadata": {},
   "source": [
    "# Vector Space model Intuition "
   ]
  },
  {
   "cell_type": "markdown",
   "id": "7b6ef09c-b5d3-4b01-860d-9669b4adca4e",
   "metadata": {},
   "source": [
    "**A deeper look inside content**\n",
    "- We always start a discussion about word embedding with a review of disadvantages of bag of words representation of documents.\n",
    "    - Loss of context  \n",
    "    - Dimensionality explosion\n",
    "    - Sparcity of data \n",
    "    - Difficulty with Synonymy and Polysemy \n",
    "    - Computational efficiency "
   ]
  },
  {
   "cell_type": "markdown",
   "id": "b10977f3-362b-48df-bb8d-93905f2d8225",
   "metadata": {},
   "source": [
    "**The basic idea behind word embedding**\n",
    "- We learn a word from nearby words.\n",
    "    - The idea goes back to language philosopher Ludwig Wittgenstein.\n",
    "- Algorithms coducting word embedding have the task to predict the next potential words.\n",
    "    - They try to minimize the error of predicting the next word.\n"
   ]
  },
  {
   "cell_type": "markdown",
   "id": "fa3aa655-fb0d-40fd-a4aa-a9dd174fa0b2",
   "metadata": {},
   "source": [
    "**Types of Algorithms**\n",
    "- Latent Semantic Analysis\n",
    "- Neural word embedding\n",
    "- Pretrained Embeddings\n",
    "- Embedding in Large Language Models (LLM)"
   ]
  },
  {
   "cell_type": "markdown",
   "id": "b5f51412-0901-4e0d-bb6c-b7ad64b9cb83",
   "metadata": {},
   "source": [
    "**Latent Semantic Analysis**\n",
    "- Based on truncated singular-value decomposition\n",
    "- It considers a whole document as the window.\n",
    "- \n"
   ]
  },
  {
   "cell_type": "markdown",
   "id": "b64793d3-5e23-463c-abc5-bfc51f5a88e2",
   "metadata": {},
   "source": [
    "**Neural Word Embedding**\n",
    "- \n",
    "- "
   ]
  },
  {
   "cell_type": "markdown",
   "id": "dbae1452-9087-4edc-9bd1-092bf48fc91f",
   "metadata": {},
   "source": []
  },
  {
   "cell_type": "code",
   "execution_count": null,
   "id": "6757237d-e8ab-414c-847b-bd0a18f66f80",
   "metadata": {},
   "outputs": [],
   "source": []
  },
  {
   "cell_type": "code",
   "execution_count": null,
   "id": "ce4276c6-63a6-4594-ac78-9fad6ee30f35",
   "metadata": {},
   "outputs": [],
   "source": []
  },
  {
   "cell_type": "code",
   "execution_count": null,
   "id": "1b35c7f2-9c34-4afc-94f9-5787de16c937",
   "metadata": {},
   "outputs": [],
   "source": []
  },
  {
   "cell_type": "code",
   "execution_count": null,
   "id": "34e6dc38-3fac-4483-9646-980b29a6c9eb",
   "metadata": {},
   "outputs": [],
   "source": []
  },
  {
   "cell_type": "code",
   "execution_count": null,
   "id": "8f7d0ebf-4f16-494e-8944-87446cd416b1",
   "metadata": {},
   "outputs": [],
   "source": []
  },
  {
   "cell_type": "markdown",
   "id": "53c60dbf-c95a-4d2c-92ca-e2d497868236",
   "metadata": {},
   "source": [
    "**Pretrained Embeddings**\n",
    "- \n",
    "- "
   ]
  },
  {
   "cell_type": "code",
   "execution_count": null,
   "id": "6abd204e-8947-4a68-b0c4-0ee4dbbcfb5d",
   "metadata": {},
   "outputs": [],
   "source": []
  },
  {
   "cell_type": "markdown",
   "id": "6313a7c5-7d72-4414-af20-1f3965130a42",
   "metadata": {},
   "source": [
    "**Embedding in Large Language Models**\n",
    "- \n",
    "- "
   ]
  },
  {
   "cell_type": "markdown",
   "id": "f1970ecf-27cc-468b-8c52-ba5cdd02f0aa",
   "metadata": {},
   "source": [
    "# Some word embedding models"
   ]
  },
  {
   "cell_type": "markdown",
   "id": "5b9ceefb-2513-4e0a-907c-d3524608dc9f",
   "metadata": {},
   "source": [
    "**We check three embedding algorithm**\n",
    "- Word2vec\n",
    "- GloVe\n",
    "- FastText"
   ]
  },
  {
   "cell_type": "markdown",
   "id": "09b31de0-13eb-49ed-a29e-96c90588db53",
   "metadata": {},
   "source": [
    "---\n",
    "---"
   ]
  },
  {
   "cell_type": "markdown",
   "id": "a8789fff-c6d3-4917-a33f-4489cd661c9f",
   "metadata": {},
   "source": [
    "**Word2Vec**"
   ]
  },
  {
   "cell_type": "code",
   "execution_count": 4,
   "id": "be5e358b-8b1b-4c91-8242-587b3a49e0b1",
   "metadata": {},
   "outputs": [
    {
     "name": "stdout",
     "output_type": "stream",
     "text": [
      "Vector for 'word2vec':\n",
      "[ 8.13227147e-03 -4.45733406e-03 -1.06835726e-03  1.00636482e-03\n",
      " -1.91113955e-04  1.14817743e-03  6.11386076e-03 -2.02715401e-05\n",
      " -3.24596534e-03 -1.51072862e-03  5.89729892e-03  1.51410222e-03\n",
      " -7.24261976e-04  9.33324732e-03 -4.92128357e-03 -8.38409644e-04\n",
      "  9.17541143e-03  6.74942741e-03  1.50285603e-03 -8.88256077e-03\n",
      "  1.14874600e-03 -2.28825561e-03  9.36823711e-03  1.20992784e-03\n",
      "  1.49006362e-03  2.40640994e-03 -1.83600665e-03 -4.99963388e-03\n",
      "  2.32429506e-04 -2.01418041e-03  6.60093315e-03  8.94012302e-03\n",
      " -6.74754381e-04  2.97701475e-03 -6.10765442e-03  1.69932481e-03\n",
      " -6.92623248e-03 -8.69402662e-03 -5.90020278e-03 -8.95647518e-03\n",
      "  7.27759488e-03 -5.77203138e-03  8.27635173e-03 -7.24354526e-03\n",
      "  3.42167495e-03  9.67499893e-03 -7.78544787e-03 -9.94505733e-03\n",
      " -4.32914635e-03 -2.68313056e-03 -2.71289347e-04 -8.83155130e-03\n",
      " -8.61755759e-03  2.80021061e-03 -8.20640661e-03 -9.06933658e-03\n",
      " -2.34046578e-03 -8.63180775e-03 -7.05664977e-03 -8.40115082e-03\n",
      " -3.01328895e-04 -4.56429832e-03  6.62717456e-03  1.52716041e-03\n",
      " -3.34147573e-03  6.10897178e-03 -6.01328490e-03 -4.65616956e-03\n",
      " -7.20750913e-03 -4.33658017e-03 -1.80932996e-03  6.48964290e-03\n",
      " -2.77039292e-03  4.91896737e-03  6.90444233e-03 -7.46370573e-03\n",
      "  4.56485013e-03  6.12697843e-03 -2.95447465e-03  6.62502181e-03\n",
      "  6.12587947e-03 -6.44348515e-03 -6.76455162e-03  2.53895880e-03\n",
      " -1.62381888e-03 -6.06512791e-03  9.49920900e-03 -5.13014663e-03\n",
      " -6.55409694e-03 -1.19885204e-04 -2.70142802e-03  4.44400299e-04\n",
      " -3.53745813e-03 -4.19330609e-04 -7.08615757e-04  8.22820642e-04\n",
      "  8.19481723e-03 -5.73670724e-03 -1.65952800e-03  5.57160750e-03]\n"
     ]
    }
   ],
   "source": [
    "# Sample corpus\n",
    "sentences = [\n",
    "    ['this', 'is', 'a', 'sample', 'sentence'],\n",
    "    ['word2vec', 'embeds', 'words', 'into', 'vectors'],\n",
    "    ['deep', 'learning', 'is', 'fun'],\n",
    "    ['we', 'use', 'word', 'embeddings', 'in', 'NLP']\n",
    "]\n",
    "\n",
    "# Train the Word2Vec model\n",
    "model = Word2Vec(sentences, vector_size=100, window=5, min_count=1, workers=4)\n",
    "\n",
    "# Access the vector of a word\n",
    "vector = model.wv['word2vec']\n",
    "\n",
    "print(f\"Vector for 'word2vec':\\n{vector}\")"
   ]
  },
  {
   "cell_type": "code",
   "execution_count": 5,
   "id": "ed5aad6a-adf9-4d17-b278-bb38061d13a1",
   "metadata": {},
   "outputs": [
    {
     "name": "stdout",
     "output_type": "stream",
     "text": [
      "Top 5 words similar to 'word2vec':\n",
      "word: 0.1638\n",
      "into: 0.1460\n",
      "this: 0.0748\n",
      "in: 0.0505\n",
      "a: 0.0416\n"
     ]
    }
   ],
   "source": [
    "# Find and print the most similar words\n",
    "similar_words = model.wv.most_similar('word2vec', topn=5)\n",
    "print(\"Top 5 words similar to 'word2vec':\")\n",
    "for word, similarity in similar_words:\n",
    "    print(f\"{word}: {similarity:.4f}\")"
   ]
  },
  {
   "cell_type": "code",
   "execution_count": 17,
   "id": "8f17b42d-e3b8-4f8e-9d37-1f3a6837082c",
   "metadata": {},
   "outputs": [
    {
     "name": "stdout",
     "output_type": "stream",
     "text": [
      "Top 5 words similar to 'Law':\n",
      "laws: 0.740\n",
      "statute: 0.676\n",
      "statutes: 0.670\n",
      "Law: 0.611\n",
      "legislation: 0.580\n"
     ]
    }
   ],
   "source": [
    "# Load pre-trained Word2Vec model (Google News vectors - ~1.5GB)\n",
    "model_path = '../../corpusExample/data/GoogleNews-vectors-negative300.bin.gz'\n",
    "\n",
    "model = KeyedVectors.load_word2vec_format(model_path, binary=True)\n",
    "\n",
    "# Get top 5 similar words to \"Law\"\n",
    "similar_words = model.most_similar('law', topn=5)\n",
    "\n",
    "# Print them\n",
    "print(\"Top 5 words similar to 'Law':\")\n",
    "for word, score in similar_words:\n",
    "    print(f\"{word}: {score:.3f}\")"
   ]
  },
  {
   "cell_type": "markdown",
   "id": "d1738582-d111-4348-8e13-381bb9588934",
   "metadata": {},
   "source": [
    "---\n",
    "---"
   ]
  },
  {
   "cell_type": "markdown",
   "id": "ade22d8f-a1a2-4eeb-b9ef-9979cdc6c144",
   "metadata": {},
   "source": [
    "**GloVe**"
   ]
  },
  {
   "cell_type": "markdown",
   "id": "d81f4ec5-db9b-4e94-bc78-0d40bd3d5b10",
   "metadata": {},
   "source": []
  },
  {
   "cell_type": "code",
   "execution_count": null,
   "id": "79aeec45-8293-417d-a365-50c35e0b97e8",
   "metadata": {},
   "outputs": [],
   "source": []
  },
  {
   "cell_type": "code",
   "execution_count": null,
   "id": "dbf5cf3b-d1a4-414d-b361-b1ca0b5d5b0a",
   "metadata": {},
   "outputs": [],
   "source": []
  },
  {
   "cell_type": "code",
   "execution_count": null,
   "id": "f423388b-7e76-41fc-981f-2c0e8c566e13",
   "metadata": {},
   "outputs": [],
   "source": []
  },
  {
   "cell_type": "code",
   "execution_count": null,
   "id": "b17510b0-5238-42dc-829e-ca9f8aa56d07",
   "metadata": {},
   "outputs": [],
   "source": []
  },
  {
   "cell_type": "code",
   "execution_count": null,
   "id": "54b4a348-acb7-43b6-85ca-f13737fa3ed8",
   "metadata": {},
   "outputs": [],
   "source": []
  },
  {
   "cell_type": "code",
   "execution_count": null,
   "id": "18633d7a-9bc7-46ca-8c8c-83b273d05c23",
   "metadata": {},
   "outputs": [],
   "source": []
  },
  {
   "cell_type": "markdown",
   "id": "b6613dd0-f456-4610-bbda-1bad391ea3d6",
   "metadata": {},
   "source": [
    "# Visualizing Embeddings "
   ]
  },
  {
   "cell_type": "code",
   "execution_count": 13,
   "id": "ce861439-a6c2-4c86-b64b-89f1f714f2ac",
   "metadata": {},
   "outputs": [
    {
     "data": {
      "image/png": "[encoded data removed]",
      "text/plain": [
       "<Figure size 800x600 with 1 Axes>"
      ]
     },
     "metadata": {},
     "output_type": "display_data"
    }
   ],
   "source": [
    "# Sample corpus\n",
    "sentences = [\n",
    "    ['this', 'is', 'a', 'sample', 'sentence'],\n",
    "    ['word2vec', 'embeds', 'words', 'into', 'vectors'],\n",
    "    ['deep', 'learning', 'is', 'fun'],\n",
    "    ['we', 'use', 'word', 'embeddings', 'in', 'NLP']\n",
    "]\n",
    "\n",
    "# Train Word2Vec model\n",
    "model = Word2Vec(sentences, vector_size=100, window=5, min_count=1, workers=4)\n",
    "\n",
    "# Get most similar words to \"word2vec\"\n",
    "target_word = 'word2vec'\n",
    "similar_words = model.wv.most_similar(target_word, topn=5)\n",
    "\n",
    "# Include the target word itself\n",
    "words = [target_word] + [word for word, _ in similar_words]\n",
    "vectors = [model.wv[word] for word in words]\n",
    "\n",
    "# Convert to NumPy array for t-SNE\n",
    "vectors_np = np.array(vectors)\n",
    "\n",
    "# Reduce vectors to 2D\n",
    "tsne = TSNE(n_components=2, random_state=0, perplexity=5)\n",
    "vectors_2d = tsne.fit_transform(vectors_np)\n",
    "\n",
    "# Plot\n",
    "plt.figure(figsize=(8, 6))\n",
    "for i, word in enumerate(words):\n",
    "    x, y = vectors_2d[i]\n",
    "    plt.scatter(x, y)\n",
    "    plt.text(x + 0.01, y + 0.01, word, fontsize=12)\n",
    "\n",
    "plt.title(f\"2D Visualization of '{target_word}' and Similar Words\")\n",
    "plt.xlabel(\"t-SNE Dimension 1\")\n",
    "plt.ylabel(\"t-SNE Dimension 2\")\n",
    "plt.grid(True)\n",
    "plt.show()"
   ]
  },
  {
   "cell_type": "code",
   "execution_count": null,
   "id": "f0f18ee8-f119-48d3-a6d3-c7566d46a35a",
   "metadata": {},
   "outputs": [],
   "source": []
  }
 ],
 "metadata": {
  "kernelspec": {
   "display_name": "Python 3 (ipykernel)",
   "language": "python",
   "name": "python3"
  },
  "language_info": {
   "codemirror_mode": {
    "name": "ipython",
    "version": 3
   },
   "file_extension": ".py",
   "mimetype": "text/x-python",
   "name": "python",
   "nbconvert_exporter": "python",
   "pygments_lexer": "ipython3",
   "version": "3.9.21"
  }
 },
 "nbformat": 4,
 "nbformat_minor": 5
}
