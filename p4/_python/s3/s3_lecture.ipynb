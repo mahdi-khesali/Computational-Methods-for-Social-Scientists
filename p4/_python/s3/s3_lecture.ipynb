{
 "cells": [
  {
   "cell_type": "code",
   "execution_count": null,
   "id": "4c849bf7-b788-4fe8-8b03-d60face0b9b0",
   "metadata": {},
   "outputs": [],
   "source": [
    "! pip install gensim"
   ]
  },
  {
   "cell_type": "markdown",
   "id": "5a36d920c9ce2cc3",
   "metadata": {},
   "source": [
    "### To Use the Code in Google Colab\n",
    "\n",
    "To run the notebooks and access the data in Google Colab, follow these steps:\n",
    "\n",
    "1. **Create a Google account** if you don't already have one. This gives you access to both Colab and Google Drive.\n",
    "\n",
    "2. **Use the shared link** provided to you to copy (clone) the notebooks into your own Google Drive.\n",
    "\n",
    "3. **Download the corpora and exercise files** from the link provided, and upload them to your Google Drive.\n",
    "\n",
    "4. **Grant Colab access to your Google Drive** by running the following code:\n",
    "\n",
    "```python\n",
    "from google.colab import drive\n",
    "drive.mount('/content/drive')\n",
    "```\n",
    "\n",
    "\n",
    "5. **You can now easily read files from your Google Drive** using standard file paths.\n",
    "\n",
    "---\n",
    "---"
   ]
  },
  {
   "cell_type": "code",
   "execution_count": null,
   "id": "1ad1408a60803d26",
   "metadata": {},
   "outputs": [],
   "source": [
    "# Uncomment when you use colab\n",
    "from google.colab import drive\n",
    "drive.mount('/content/drive')"
   ]
  },
  {
   "cell_type": "code",
   "execution_count": null,
   "id": "9a0ca924a7be6d38",
   "metadata": {},
   "outputs": [],
   "source": [
    "from IPython.display import clear_output\n",
    "import time\n",
    "def countdown_timer(seconds):\n",
    "    for i in range(seconds, -1, -1):\n",
    "        clear_output(wait=True)\n",
    "        print(f\"⏳ Time remaining: {i} seconds\")\n",
    "        time.sleep(1)\n",
    "    print(\"✅ Time's up!\")"
   ]
  },
  {
   "cell_type": "code",
   "execution_count": 21,
   "id": "dd399b83-838e-4476-acd6-5f6a519fd36f",
   "metadata": {
    "ExecuteTime": {
     "end_time": "2025-07-27T16:37:17.661687Z",
     "start_time": "2025-07-27T16:37:17.537694Z"
    }
   },
   "outputs": [],
   "source": [
    "# Machine Learning\n",
    "from sklearn.decomposition import PCA\n",
    "from sklearn.feature_extraction.text import TfidfVectorizer\n",
    "from sklearn.decomposition import TruncatedSVD\n",
    "from sklearn.manifold import TSNE\n",
    "import numpy as np \n",
    "\n",
    "\n",
    "\n",
    "# Natural Language Processing\n",
    "import nltk\n",
    "from nltk.stem import WordNetLemmatizer\n",
    "from textblob import TextBlob\n",
    "import unicodedata  # For accent removal\n",
    "\n",
    "# Embedding\n",
    "from gensim.models import Word2Vec\n",
    "from gensim.models import KeyedVectors\n",
    "from gensim.scripts.glove2word2vec import glove2word2vec\n",
    "\n",
    "# Standard library imports\n",
    "import os\n",
    "import string\n",
    "import re\n",
    "\n",
    "# Visualization\n",
    "import matplotlib.pyplot as plt"
   ]
  },
  {
   "cell_type": "code",
   "execution_count": 4,
   "id": "5f62b305fea09b55",
   "metadata": {
    "ExecuteTime": {
     "end_time": "2025-07-27T16:06:21.059500Z",
     "start_time": "2025-07-27T16:06:21.054203Z"
    }
   },
   "outputs": [],
   "source": [
    "# Initialize stemmer\n",
    "lemmatizer = WordNetLemmatizer()"
   ]
  },
  {
   "cell_type": "code",
   "execution_count": 5,
   "id": "d6cb4014f05f1592",
   "metadata": {
    "ExecuteTime": {
     "end_time": "2025-07-27T16:06:54.133762Z",
     "start_time": "2025-07-27T16:06:54.124571Z"
    }
   },
   "outputs": [],
   "source": [
    "stop_words = set(nltk.corpus.stopwords.words('english'))\n",
    "punctuations = set(string.punctuation)"
   ]
  },
  {
   "cell_type": "markdown",
   "id": "5e973805ebd1a194",
   "metadata": {},
   "source": [
    "a# Session 3 – Embedding-Based Representation of Documents\n",
    "\n",
    "In this session, we move beyond simple count-based representations (like Bag of Words and TF-IDF) and explore **embedding-based methods**.\n",
    "\n",
    "These methods represent words and documents as **dense numerical vectors** that capture semantic meaning and contextual relationships.\n",
    "\n",
    "### Goals of this session:\n",
    "\n",
    "- Understand how **word embeddings** (e.g., Word2Vec, GloVe) represent word meaning in vector space\n",
    "- Learn how to obtain **document embeddings** by aggregating word vectors or using models like Doc2Vec\n",
    "- Compare embedding-based representations with traditional BoW or TF-IDF approaches\n",
    "\n",
    "Embedding methods allow for more advanced tasks such as semantic similarity, clustering, classification, and topic modeling.\n"
   ]
  },
  {
   "cell_type": "markdown",
   "id": "d118ec99-38d9-4812-981f-6b6e4d772565",
   "metadata": {},
   "source": [
    "# Vector Space model Intuition "
   ]
  },
  {
   "cell_type": "markdown",
   "id": "7b6ef09c-b5d3-4b01-860d-9669b4adca4e",
   "metadata": {},
   "source": [
    "## A Deeper Look Inside Content\n",
    "\n",
    "We often begin discussions about **word embeddings** by revisiting the limitations of traditional **Bag of Words (BoW)** representations.\n",
    "\n",
    "While BoW is simple and interpretable, it suffers from several key disadvantages:\n",
    "\n",
    "- **Loss of Context**\n",
    "  BoW treats words independently and ignores word order, meaning, and grammatical structure.\n",
    "\n",
    "- **Dimensionality Explosion**\n",
    "  The vocabulary size determines the number of features, which can be extremely large in real-world corpora.\n",
    "\n",
    "- **Data Sparsity**\n",
    "  Most documents only contain a small subset of all possible words, leading to sparse matrices.\n",
    "\n",
    "- **Difficulty with Synonymy and Polysemy**\n",
    "  BoW cannot recognize that \"happy\" and \"joyful\" are similar, or that \"bank\" can mean different things in different contexts.\n",
    "\n",
    "- **Computational Inefficiency**\n",
    "  Sparse, high-dimensional matrices increase memory usage and computation time in downstream tasks.\n",
    "\n",
    "To address these issues, we move toward **embedding-based models**, which represent words (and documents) as dense, low-dimensional vectors that preserve semantic relationships.\n"
   ]
  },
  {
   "cell_type": "markdown",
   "id": "36af3c9c886dc3a3",
   "metadata": {},
   "source": [
    "---\n",
    "---"
   ]
  },
  {
   "cell_type": "markdown",
   "id": "e3c92efa6ddd5486",
   "metadata": {},
   "source": [
    "## The Basic Idea Behind Word Embedding"
   ]
  },
  {
   "cell_type": "markdown",
   "id": "b10977f3-362b-48df-bb8d-93905f2d8225",
   "metadata": {},
   "source": [
    "### Distributed representation - Institution\n",
    "\n",
    "The core idea behind **word embeddings** is that we learn the meaning of a word from the **words that surround it**.\n",
    "\n",
    "> \"You shall know a word by the company it keeps.\"\n",
    "> — Ludwig Wittgenstein, philosopher of language\n",
    "\n",
    "### How it works:\n",
    "\n",
    "- Word embedding algorithms are trained to **predict words based on their context** (or vice versa).\n",
    "- They learn from large amounts of text and aim to capture **semantic relationships** between words.\n",
    "- The objective is to **minimize the error** in predicting surrounding or next words given a target word.\n",
    "\n",
    "### Result:\n",
    "\n",
    "Each word is represented as a **dense vector** in a continuous vector space, where:\n",
    "- Words that appear in **similar contexts** are placed **close together** in the space.\n",
    "- These vectors can capture relationships like:\n",
    "  - `\"king\" - \"man\" + \"woman\" ≈ \"queen\"`\n",
    "\n"
   ]
  },
  {
   "cell_type": "markdown",
   "id": "119ecf39f7d679b1",
   "metadata": {},
   "source": [
    "---\n",
    "---"
   ]
  },
  {
   "cell_type": "markdown",
   "id": "ffaee59281040442",
   "metadata": {},
   "source": [
    "### One-Hot Encoding vs. Dense Vector Embedding\n",
    "\n",
    "**One-Hot Encoding**\n",
    "\n",
    "In one-hot encoding, each word is represented by a **binary vector** the same length as the vocabulary.\n",
    "\n",
    "- The vector is **all zeros** except for a `1` in the position corresponding to the word.\n",
    "- This representation is **high-dimensional** and **sparse**.\n",
    "- It does **not capture any meaning or relationship** between words.\n",
    "\n",
    "**Example**\n",
    "\n",
    "Vocabulary = [\"cat\", \"dog\", \"fish\", \"bird\"]\n",
    "\n",
    "| Word  | One-Hot Vector         |\n",
    "|-------|------------------------|\n",
    "| cat   | [1, 0, 0, 0]           |\n",
    "| dog   | [0, 1, 0, 0]           |\n",
    "| fish  | [0, 0, 1, 0]           |\n",
    "| bird  | [0, 0, 0, 1]           |\n",
    "\n",
    "Notice: All vectors are equally distant—no semantic similarity.\n",
    "\n",
    "---\n",
    "\n",
    "**Dense Vector (Embedding)**\n",
    "\n",
    "In dense vector representations (like Word2Vec or GloVe), each word is mapped to a **low-dimensional, real-valued vector**.\n",
    "\n",
    "- These vectors are **learned from data** based on word usage and context.\n",
    "- Words with **similar meanings** have **similar vectors**.\n",
    "\n",
    "#### Example (simplified):\n",
    "\n",
    "| Word  | Dense Vector              |\n",
    "|-------|---------------------------|\n",
    "| cat   | [0.62, 0.13, 0.77]        |\n",
    "| dog   | [0.60, 0.10, 0.79]        |\n",
    "| fish  | [0.18, 0.85, 0.25]        |\n",
    "| bird  | [0.55, 0.11, 0.80]        |\n",
    "\n",
    "Here, \"cat\", \"dog\", and \"bird\" have similar vectors, reflecting their semantic closeness as animals.\n",
    "\n"
   ]
  },
  {
   "cell_type": "markdown",
   "id": "fa3aa655-fb0d-40fd-a4aa-a9dd174fa0b2",
   "metadata": {},
   "source": [
    "## Types of Word Embedding Algorithms\n",
    "\n",
    "Several algorithms and techniques have been developed to represent words as dense vectors based on their usage in language. These can be grouped into the following major categories:\n",
    "\n",
    "1. **Latent Semantic Analysis (LSA)**\n",
    "- A statistical technique based on matrix decomposition (e.g., Singular Value Decomposition).\n",
    "- Reduces the dimensionality of the document-term matrix to capture **semantic structure**.\n",
    "- One of the earliest methods for capturing meaning beyond raw counts.\n",
    "\n",
    "2. **Neural Word Embedding**\n",
    "- Predictive models trained on large text corpora.\n",
    "- Examples include:\n",
    "  - **Word2Vec** (Skip-gram, CBOW)\n",
    "  - **GloVe** (Global Vectors for Word Representation)\n",
    "  - **FastText** (captures subword information)\n",
    "- Learn embeddings by **predicting context words** or **factorizing co-occurrence matrices**.\n",
    "\n",
    "3. **Pretrained Embeddings**\n",
    "- Word vectors trained on very large corpora (e.g., Wikipedia, Common Crawl).\n",
    "- Common pretrained models:\n",
    "  - **GloVe** (Stanford)\n",
    "  - **FastText** (Facebook)\n",
    "  - **Word2Vec** (Google News)\n",
    "- Can be imported and used directly for downstream tasks, saving time and resources.\n",
    "\n",
    "4. **Embeddings in Large Language Models (LLMs)**\n",
    "- Modern models like **BERT**, **GPT**, and **RoBERTa** use **contextual embeddings**.\n",
    "- A word’s representation depends on the **surrounding context** (e.g., \"bank\" in a river vs. financial sentence).\n",
    "- These embeddings are dynamic and **deeply contextualized**, capturing grammar, syntax, and semantics.\n"
   ]
  },
  {
   "cell_type": "markdown",
   "id": "f1970ecf-27cc-468b-8c52-ba5cdd02f0aa",
   "metadata": {},
   "source": [
    "# Some word embedding models"
   ]
  },
  {
   "cell_type": "markdown",
   "id": "5b9ceefb-2513-4e0a-907c-d3524608dc9f",
   "metadata": {},
   "source": [
    "## Embedding Algorithms We Will Explore\n",
    "\n",
    "In this session, we will examine and compare **three key types of word embedding algorithms**. Each of these methods transforms words into dense vectors, but they differ in how they learn those vectors.\n",
    "\n",
    "### Algorithms:\n",
    "\n",
    "1. **Latent Semantic Analysis (LSA)**\n",
    "   - Based on linear algebra and matrix decomposition (e.g., SVD).\n",
    "   - Captures latent structure from a document-term matrix.\n",
    "   - Unsupervised and relies on word co-occurrence patterns.\n",
    "\n",
    "2. **Word2Vec**\n",
    "   - A neural embedding model introduced by Google.\n",
    "   - Two architectures: **Skip-gram** and **CBOW (Continuous Bag of Words)**.\n",
    "   - Learns word vectors by predicting context words in a sentence.\n",
    "\n",
    "3. **GloVe (Global Vectors for Word Representation)**\n",
    "   - Developed by Stanford NLP Group.\n",
    "   - Combines global co-occurrence statistics with local context.\n",
    "   - Produces embeddings where vector differences encode semantic relationships.\n",
    "\n",
    "4. **FastText**\n",
    "   - Developed by Facebook AI Research.\n",
    "   - Extends Word2Vec by including **subword (character n-gram) information**.\n",
    "   - Better handle rare and out-of-vocabulary words by learning representations for word fragments.\n",
    "\n",
    "These models help us understand the **semantic structure** of language and serve as a foundation for many NLP tasks."
   ]
  },
  {
   "cell_type": "markdown",
   "id": "09b31de0-13eb-49ed-a29e-96c90588db53",
   "metadata": {},
   "source": [
    "---\n",
    "---"
   ]
  },
  {
   "cell_type": "markdown",
   "id": "daac4e26f0becc87",
   "metadata": {},
   "source": [
    "### Example 1 - LSA"
   ]
  },
  {
   "cell_type": "code",
   "execution_count": 6,
   "id": "39530c77b3b3830c",
   "metadata": {
    "ExecuteTime": {
     "end_time": "2025-07-27T16:08:14.205024Z",
     "start_time": "2025-07-27T16:07:56.260919Z"
    }
   },
   "outputs": [
    {
     "name": "stdout",
     "output_type": "stream",
     "text": [
      "LSA Components (Topics):\n",
      "[[ 0.01820782  0.03273716  0.01384281 ...  0.015755    0.01276163\n",
      "   0.01461361]\n",
      " [ 0.00643412  0.00632423 -0.00139899 ... -0.00774904  0.00222931\n",
      "  -0.00607517]]\n",
      "\n",
      "Document-topic matrix:\n",
      "[[ 0.32522412 -0.14734447]\n",
      " [ 0.24532669 -0.11667447]\n",
      " [ 0.39112128 -0.1332889 ]\n",
      " ...\n",
      " [ 0.52457764  0.09716866]\n",
      " [ 0.55992946  0.10370472]\n",
      " [ 0.52722508  0.07752126]]\n",
      "\n",
      "Top terms per topic:\n",
      "Topic 1: right, council, global, human, government\n",
      "Topic 2: island, climate, small, pacific, change\n"
     ]
    }
   ],
   "source": [
    "ListUNSpeech = []  # Create an empty dictionary to store file name and text content\n",
    "\n",
    "# comment the line 7 and uncomment line 8 if you are using colab\n",
    "# Define the directory containing the text files\n",
    "fileAddress1 = '../../corpusExample/unSpeeches2000_2010'\n",
    "# fileAddress1 = '/content/drive/My Drive/corpusExample/unSpeeches2000_2010'\n",
    "\n",
    "# Loop through all files in the directory\n",
    "# For each file:\n",
    "#   - Open it\n",
    "#   - Read its content (converted to lowercase)\n",
    "#   - Store it in the dictionary with the filename (without '.txt') as the key\n",
    "for file in os.listdir(fileAddress1):\n",
    "    with open(os.path.join(fileAddress1, file), 'r', encoding='utf-8', errors='ignore') as textFile:\n",
    "        text = textFile.read().lower()\n",
    "        ListUNSpeech.append(text)\n",
    "\n",
    "\n",
    "# Step 1: Define a custom analyzer for CountVectorizer\n",
    "def custom_preprocessor(text):\n",
    "    # Normalize and remove accents\n",
    "    text = unicodedata.normalize('NFKD', text).encode('ascii', 'ignore').decode('utf-8', 'ignore')\n",
    "\n",
    "    # Lowercase the text and remove digits\n",
    "    text = re.sub(r'\\d+', '', text.lower())\n",
    "\n",
    "    # Tokenize the text\n",
    "    tokens = nltk.tokenize.word_tokenize(text)\n",
    "\n",
    "    # Remove stopwords, punctuation, and non-alphabetic tokens; then lemmatize\n",
    "    tokens = [\n",
    "        lemmatizer.lemmatize(token)\n",
    "        for token in tokens\n",
    "        if token.isalpha() and token not in stop_words and token not in punctuations\n",
    "    ]\n",
    "\n",
    "    return tokens\n",
    "\n",
    "# Step 2: Create a CountVectorizer using the custom analyzer\n",
    "# - min_df=0.1: keep words appearing in at least 10% of documents\n",
    "# - max_df=0.9: exclude words appearing in more than 90% of documents\n",
    "tfidfVectorizer = TfidfVectorizer(\n",
    "    analyzer=custom_preprocessor,\n",
    "    min_df=0.1,\n",
    "    max_df=0.9\n",
    ")\n",
    "X_tfidf = tfidfVectorizer.fit_transform(ListUNSpeech)\n",
    "\n",
    "# Step 2: Apply LSA using TruncatedSVD\n",
    "lsa = TruncatedSVD(n_components=2, random_state=42)  # Reduce to 2 topics\n",
    "X_lsa = lsa.fit_transform(X_tfidf)\n",
    "\n",
    "# Step 3: Show results\n",
    "print(\"LSA Components (Topics):\")\n",
    "print(lsa.components_)\n",
    "\n",
    "print(\"\\nDocument-topic matrix:\")\n",
    "print(X_lsa)\n",
    "\n",
    "print(\"\\nTop terms per topic:\")\n",
    "terms = tfidfVectorizer.get_feature_names_out()\n",
    "for i, comp in enumerate(lsa.components_):\n",
    "    terms_in_topic = [terms[i] for i in comp.argsort()[:-6:-1]]  # top 5 terms\n",
    "    print(f\"Topic {i + 1}: {', '.join(terms_in_topic)}\")\n"
   ]
  },
  {
   "cell_type": "markdown",
   "id": "8947018bab5313d3",
   "metadata": {},
   "source": [
    "---\n",
    "---"
   ]
  },
  {
   "cell_type": "markdown",
   "id": "239779ada50b2b0f",
   "metadata": {},
   "source": [
    "### Exercise 3.1"
   ]
  },
  {
   "cell_type": "code",
   "execution_count": null,
   "id": "975f849de9bf09f3",
   "metadata": {},
   "outputs": [],
   "source": [
    "countdown_timer(300)"
   ]
  },
  {
   "cell_type": "markdown",
   "id": "36d774c0d29bb96",
   "metadata": {},
   "source": [
    "---\n",
    "---"
   ]
  },
  {
   "cell_type": "markdown",
   "id": "a8789fff-c6d3-4917-a33f-4489cd661c9f",
   "metadata": {},
   "source": [
    "### Example 2 - Word2Vec"
   ]
  },
  {
   "cell_type": "code",
   "execution_count": 16,
   "id": "be5e358b-8b1b-4c91-8242-587b3a49e0b1",
   "metadata": {
    "ExecuteTime": {
     "end_time": "2025-07-27T16:22:24.189176Z",
     "start_time": "2025-07-27T16:22:24.037077Z"
    }
   },
   "outputs": [],
   "source": [
    "# Step 1: Create an empty list to store sets of lemmatized words from AFG speeches\n",
    "ListUNSpeechAFG = []\n",
    "\n",
    "# Step 2: Define the directory containing the text files\n",
    "fileAddress1 = '../../corpusExample/unSpeeches2000_2010'\n",
    "\n",
    "# Step 3: Define the text cleaning function\n",
    "def text_cleaner(text):\n",
    "    # Tokenize the text into words\n",
    "    tokens = nltk.tokenize.word_tokenize(text)\n",
    "\n",
    "    # Lowercase, remove stopwords and punctuation\n",
    "    cleaned_tokens = [\n",
    "        word.lower()\n",
    "        for word in tokens\n",
    "        if word.lower() not in stop_words and word.lower() not in punctuations and word.isalpha()\n",
    "    ]\n",
    "\n",
    "    # Apply lemmatization\n",
    "    lemmatized_tokens = [lemmatizer.lemmatize(token) for token in cleaned_tokens]\n",
    "\n",
    "    return lemmatized_tokens\n",
    "\n",
    "# Step 4: Loop through all AFG speech files and preprocess them\n",
    "for file in os.listdir(fileAddress1):\n",
    "    if file.startswith(\"AFG\"):  # Filter for Afghanistan\n",
    "        with open(os.path.join(fileAddress1, file), 'r', encoding='utf-8', errors='ignore') as textFile:\n",
    "            raw_text = textFile.read()\n",
    "            cleaned_tokens = text_cleaner(raw_text)\n",
    "            ListUNSpeechAFG.append(cleaned_tokens)  # Append token lists (not sets!) for Word2Vec\n",
    "\n",
    "\n",
    "# Train the Word2Vec model on tokenized AFG speeches\n",
    "model = Word2Vec(\n",
    "    sentences=ListUNSpeechAFG,   # List of tokenized documents (each is a list of words)\n",
    "    vector_size=100,             # Size of the word vectors (dimensionality of the embedding space)\n",
    "    window=5,                    # Maximum distance between a target word and words around it (context window)\n",
    "    min_count=1,                 # Ignores all words that appear fewer than 1 time in the corpus\n",
    "    workers=4                    # Number of CPU cores to use for training (parallelization)\n",
    ")\n",
    "\n",
    "# Retrieve the vector for the word 'afghanistan'\n",
    "vector = model.wv['afghanistan']"
   ]
  },
  {
   "cell_type": "code",
   "execution_count": 17,
   "id": "ed5aad6a-adf9-4d17-b278-bb38061d13a1",
   "metadata": {
    "ExecuteTime": {
     "end_time": "2025-07-27T16:22:28.621776Z",
     "start_time": "2025-07-27T16:22:28.614632Z"
    }
   },
   "outputs": [
    {
     "name": "stdout",
     "output_type": "stream",
     "text": [
      "Top 5 words similar to 'afghanistan':\n",
      "world: 0.8868\n",
      "international: 0.8821\n",
      "terrorism: 0.8821\n",
      "united: 0.8782\n",
      "terrorist: 0.8756\n"
     ]
    }
   ],
   "source": [
    "# Find and print the most similar words\n",
    "similar_words = model.wv.most_similar('afghanistan', topn=5)\n",
    "print(\"Top 5 words similar to 'afghanistan':\")\n",
    "for word, similarity in similar_words:\n",
    "    print(f\"{word}: {similarity:.4f}\")"
   ]
  },
  {
   "cell_type": "markdown",
   "id": "733282843d43bcf6",
   "metadata": {},
   "source": [
    "---\n",
    "---"
   ]
  },
  {
   "cell_type": "markdown",
   "id": "d8939fac0921db0a",
   "metadata": {},
   "source": [
    "### Exercise 3.2"
   ]
  },
  {
   "cell_type": "code",
   "execution_count": null,
   "id": "3b254b80202871fe",
   "metadata": {},
   "outputs": [],
   "source": [
    "countdown_timer(300)"
   ]
  },
  {
   "cell_type": "markdown",
   "id": "cc5f4cd0b2599984",
   "metadata": {},
   "source": [
    "---\n",
    "---"
   ]
  },
  {
   "cell_type": "markdown",
   "id": "b0053405e38fe78a",
   "metadata": {},
   "source": [
    "### Example 3 - Use a pre-trained model (google News)"
   ]
  },
  {
   "cell_type": "code",
   "execution_count": 19,
   "id": "8f17b42d-e3b8-4f8e-9d37-1f3a6837082c",
   "metadata": {
    "ExecuteTime": {
     "end_time": "2025-07-27T16:24:20.577787Z",
     "start_time": "2025-07-27T16:23:55.534032Z"
    }
   },
   "outputs": [
    {
     "name": "stdout",
     "output_type": "stream",
     "text": [
      "Top 5 words similar to 'afghanistan':\n",
      "iraq: 0.729\n",
      "Afganistan: 0.683\n",
      "afganistan: 0.671\n",
      "taliban: 0.664\n",
      "iraqi: 0.628\n"
     ]
    }
   ],
   "source": [
    "# Load pre-trained Word2Vec model (Google News vectors - ~1.5GB)\n",
    "model_path = '../../embeddingModels/GoogleNews-vectors-negative300.bin.gz'\n",
    "\n",
    "model = KeyedVectors.load_word2vec_format(model_path, binary=True)\n",
    "\n",
    "# Get top 5 similar words to \"Law\"\n",
    "similar_words = model.most_similar('afghanistan', topn=5)\n",
    "\n",
    "# Print them\n",
    "print(\"Top 5 words similar to 'afghanistan':\")\n",
    "for word, score in similar_words:\n",
    "    print(f\"{word}: {score:.3f}\")"
   ]
  },
  {
   "cell_type": "markdown",
   "id": "d1738582-d111-4348-8e13-381bb9588934",
   "metadata": {},
   "source": [
    "---\n",
    "---"
   ]
  },
  {
   "cell_type": "markdown",
   "id": "ade22d8f-a1a2-4eeb-b9ef-9979cdc6c144",
   "metadata": {},
   "source": [
    "### Example 4 - Glove"
   ]
  },
  {
   "cell_type": "code",
   "execution_count": 33,
   "id": "79aeec45-8293-417d-a365-50c35e0b97e8",
   "metadata": {
    "ExecuteTime": {
     "end_time": "2025-07-27T16:51:15.961020Z",
     "start_time": "2025-07-27T16:50:21.904551Z"
    }
   },
   "outputs": [
    {
     "name": "stdout",
     "output_type": "stream",
     "text": [
      "Similarity between 'afghanistan' and 'war': 0.4660\n",
      "\n",
      "Words most similar to 'afghanistan':\n",
      "afghan: 0.7967\n",
      "taliban: 0.7248\n",
      "iraq: 0.6704\n",
      "kabul: 0.6595\n",
      "pakistan: 0.6449\n",
      "\n",
      "'afghanistan' is to 'war' as 'germany' is to:\n",
      "german: 0.5998\n",
      "nazi: 0.5460\n",
      "berlin: 0.4994\n"
     ]
    }
   ],
   "source": [
    "# Paths\n",
    "glove_input_file = '../../embeddingModels/glove/glove.6B.50d.txt'\n",
    "\n",
    "\n",
    "# Load the model\n",
    "model = KeyedVectors.load_word2vec_format(glove_input_file, binary=False, no_header=True)\n",
    "\n",
    "\n",
    "# Load the model\n",
    "model = KeyedVectors.load_word2vec_format(word2vec_output_file, binary=False)\n",
    "\n",
    "\n",
    "# Check similarity between 'Afghanistan' and 'war'\n",
    "similarity = model.similarity('afghanistan', 'war')\n",
    "print(f\"Similarity between 'afghanistan' and 'war': {similarity:.4f}\")\n",
    "\n",
    "# Find words most similar to 'Afghanistan'\n",
    "print(\"\\nWords most similar to 'afghanistan':\")\n",
    "for word, score in model.most_similar('afghanistan', topn=5):\n",
    "    print(f\"{word}: {score:.4f}\")\n",
    "\n",
    "# Analogy: 'Afghanistan' is to 'war' as 'Germany' is to?\n",
    "print(\"\\n'afghanistan' is to 'war' as 'germany' is to:\")\n",
    "result = model.most_similar(positive=['germany', 'war'], negative=['afghanistan'], topn=3)\n",
    "for word, score in result:\n",
    "    print(f\"{word}: {score:.4f}\")"
   ]
  },
  {
   "cell_type": "markdown",
   "id": "998e150f8a837195",
   "metadata": {},
   "source": [
    "---\n",
    "---"
   ]
  },
  {
   "cell_type": "markdown",
   "id": "1cd969d6c33316c6",
   "metadata": {},
   "source": [
    "### Example 5 - FastText"
   ]
  },
  {
   "cell_type": "code",
   "execution_count": 34,
   "id": "b17510b0-5238-42dc-829e-ca9f8aa56d07",
   "metadata": {
    "ExecuteTime": {
     "end_time": "2025-07-27T17:54:16.031980Z",
     "start_time": "2025-07-27T17:52:20.837804Z"
    }
   },
   "outputs": [
    {
     "name": "stdout",
     "output_type": "stream",
     "text": [
      "Similarity: 0.4950\n",
      "Words similar to 'Afghanistan':\n",
      "Kabul: 0.7764\n",
      "Afghan: 0.7601\n",
      "Aghanistan: 0.7447\n",
      "Iraq: 0.7432\n",
      "Afganistan: 0.7308\n",
      "Analogy result: [('German', 0.5479215979576111), ('Nazi', 0.5435973405838013), ('Germans', 0.5319619178771973)]\n"
     ]
    }
   ],
   "source": [
    "# Path to the downloaded file (uncompressed if needed)\n",
    "fasttext_file = '../../embeddingModels/fastText/wiki-news-300d-1M.vec'\n",
    "\n",
    "# Load the vectors\n",
    "model = KeyedVectors.load_word2vec_format(fasttext_file)\n"
   ]
  },
  {
   "cell_type": "code",
   "execution_count": null,
   "id": "ac840ffec1c3fa79",
   "metadata": {},
   "outputs": [],
   "source": [
    "similarity = model.similarity('Afghanistan', 'war')\n",
    "print(f\"Similarity: {similarity:.4f}\")"
   ]
  },
  {
   "cell_type": "code",
   "execution_count": null,
   "id": "6c71b27cb2e3b082",
   "metadata": {},
   "outputs": [],
   "source": [
    "print(\"Words similar to 'Afghanistan':\")\n",
    "for word, score in model.most_similar('Afghanistan', topn=5):\n",
    "    print(f\"{word}: {score:.4f}\")"
   ]
  },
  {
   "cell_type": "code",
   "execution_count": null,
   "id": "11955c00532e89d",
   "metadata": {},
   "outputs": [],
   "source": [
    "result = model.most_similar(positive=['Germany', 'war'], negative=['Afghanistan'], topn=3)\n",
    "print(\"Analogy result:\", result)"
   ]
  },
  {
   "cell_type": "markdown",
   "id": "b6613dd0-f456-4610-bbda-1bad391ea3d6",
   "metadata": {},
   "source": [
    "## 3.3. Visualizing Embeddings"
   ]
  },
  {
   "cell_type": "markdown",
   "id": "339fde8614f0e8bf",
   "metadata": {},
   "source": [
    "## Basic Idea behind visualization\n",
    "- It is not possible to present more than 3 dimensions:\n",
    "    - Again think about dimensions as topics - it is just an analogy, technically this is wrong.\n",
    "    - Even Three dimension figures are not readable and intuitive.\n",
    "- We have to reduce the dimensions:\n",
    "    - t-SNE (t-distributed Stochastic Neighbor Embedding)\n",
    "    - Principal Component Analysis (PCA)\n",
    "        - If you are familiar with factor analysis. THIS IS NOT FACTOR ANALYSIS. The goal and math behind the two are different."
   ]
  },
  {
   "cell_type": "code",
   "execution_count": null,
   "id": "96c8d48f4ff026f1",
   "metadata": {},
   "outputs": [],
   "source": [
    "# Step 1: Create an empty list to store sets of lemmatized words from AFG speeches\n",
    "ListUNSpeechAFG = []\n",
    "\n",
    "# Step 2: Define the directory containing the text files\n",
    "fileAddress1 = '../../corpusExample/unSpeeches2000_2010'\n",
    "\n",
    "# Step 3: Define the text cleaning function\n",
    "def text_cleaner(text):\n",
    "    # Tokenize the text into words\n",
    "    tokens = nltk.tokenize.word_tokenize(text)\n",
    "\n",
    "    # Lowercase, remove stopwords and punctuation\n",
    "    cleaned_tokens = [\n",
    "        word.lower()\n",
    "        for word in tokens\n",
    "        if word.lower() not in stop_words and word.lower() not in punctuations and word.isalpha()\n",
    "    ]\n",
    "\n",
    "    # Apply lemmatization\n",
    "    lemmatized_tokens = [lemmatizer.lemmatize(token) for token in cleaned_tokens]\n",
    "\n",
    "    return lemmatized_tokens\n",
    "\n",
    "# Step 4: Loop through all AFG speech files and preprocess them\n",
    "for file in os.listdir(fileAddress1):\n",
    "    if file.startswith(\"AFG\"):  # Filter for Afghanistan\n",
    "        with open(os.path.join(fileAddress1, file), 'r', encoding='utf-8', errors='ignore') as textFile:\n",
    "            raw_text = textFile.read()\n",
    "            cleaned_tokens = text_cleaner(raw_text)\n",
    "            ListUNSpeechAFG.append(cleaned_tokens)  # Append token lists (not sets!) for Word2Vec\n",
    "\n",
    "\n",
    "# Train the Word2Vec model on tokenized AFG speeches\n",
    "model = Word2Vec(\n",
    "    sentences=ListUNSpeechAFG,   # List of tokenized documents (each is a list of words)\n",
    "    vector_size=100,             # Size of the word vectors (dimensionality of the embedding space)\n",
    "    window=5,                    # Maximum distance between a target word and words around it (context window)\n",
    "    min_count=1,                 # Ignores all words that appear fewer than 1 time in the corpus\n",
    "    workers=4                    # Number of CPU cores to use for training (parallelization)\n",
    ")\n"
   ]
  },
  {
   "cell_type": "markdown",
   "id": "c30df509de6f0737",
   "metadata": {},
   "source": [
    "### Example 1 : t-SNE"
   ]
  },
  {
   "cell_type": "code",
   "execution_count": 38,
   "id": "ce861439-a6c2-4c86-b64b-89f1f714f2ac",
   "metadata": {
    "ExecuteTime": {
     "end_time": "2025-07-27T18:15:52.937725Z",
     "start_time": "2025-07-27T18:15:52.681633Z"
    }
   },
   "outputs": [
    {
     "data": {
      "image/png": "[encoded data removed]",
      "text/plain": [
       "<Figure size 1000x800 with 1 Axes>"
      ]
     },
     "metadata": {},
     "output_type": "display_data"
    }
   ],
   "source": [
    "# Get 5 most similar words to \"afghanistan\"\n",
    "target_word = 'afghanistan'\n",
    "similar_words = model.wv.most_similar(target_word, topn=5)\n",
    "\n",
    "# Get 5 most dissimilar words by sorting the vocabulary based on similarity score\n",
    "# Exclude words not in the model or those that raise errors\n",
    "all_words = model.wv.index_to_key\n",
    "similarities = [(word, model.wv.similarity(target_word, word)) for word in all_words if word != target_word]\n",
    "dissimilar_words = sorted(similarities, key=lambda x: x[1])[:5]  # Lowest similarity\n",
    "\n",
    "# Combine all words for visualization\n",
    "words = [target_word] + [w for w, _ in similar_words] + [w for w, _ in dissimilar_words]\n",
    "vectors = [model.wv[word] for word in words]\n",
    "\n",
    "# Convert to NumPy array\n",
    "vectors_np = np.array(vectors)\n",
    "\n",
    "# t-SNE projection\n",
    "tsne = TSNE(n_components=2, random_state=0, perplexity=5)\n",
    "vectors_2d = tsne.fit_transform(vectors_np)\n",
    "\n",
    "# Plotting\n",
    "plt.figure(figsize=(10, 8))\n",
    "for i, word in enumerate(words):\n",
    "    x, y = vectors_2d[i]\n",
    "    plt.scatter(x, y)\n",
    "    plt.text(x + 0.01, y + 0.01, word, fontsize=12)\n",
    "\n",
    "plt.title(f\"2D Visualization of '{target_word}' with Similar and Dissimilar Words\")\n",
    "plt.xlabel(\"t-SNE Dimension 1\")\n",
    "plt.ylabel(\"t-SNE Dimension 2\")\n",
    "plt.grid(True)\n",
    "plt.show()"
   ]
  },
  {
   "cell_type": "markdown",
   "id": "390b5ede6739cb36",
   "metadata": {},
   "source": [
    "## Example 2  - PCA"
   ]
  },
  {
   "cell_type": "code",
   "execution_count": 39,
   "id": "82d89dbd2539012e",
   "metadata": {
    "ExecuteTime": {
     "end_time": "2025-07-27T18:15:56.343431Z",
     "start_time": "2025-07-27T18:15:56.196910Z"
    }
   },
   "outputs": [
    {
     "data": {
      "image/png": "[encoded data removed]",
      "text/plain": [
       "<Figure size 1000x800 with 1 Axes>"
      ]
     },
     "metadata": {},
     "output_type": "display_data"
    }
   ],
   "source": [
    "# Get 5 most similar words to \"afghanistan\"\n",
    "target_word = 'afghanistan'\n",
    "similar_words = model.wv.most_similar(target_word, topn=5)\n",
    "\n",
    "# Get 5 most dissimilar words\n",
    "all_words = model.wv.index_to_key\n",
    "similarities = [(word, model.wv.similarity(target_word, word)) for word in all_words if word != target_word]\n",
    "dissimilar_words = sorted(similarities, key=lambda x: x[1])[:5]\n",
    "\n",
    "# Combine all words for visualization\n",
    "words = [target_word] + [w for w, _ in similar_words] + [w for w, _ in dissimilar_words]\n",
    "vectors = [model.wv[word] for word in words]\n",
    "vectors_np = np.array(vectors)\n",
    "\n",
    "# PCA projection to 2D\n",
    "pca = PCA(n_components=2)\n",
    "vectors_2d = pca.fit_transform(vectors_np)\n",
    "\n",
    "# Plotting\n",
    "plt.figure(figsize=(10, 8))\n",
    "for i, word in enumerate(words):\n",
    "    x, y = vectors_2d[i]\n",
    "    plt.scatter(x, y)\n",
    "    plt.text(x + 0.01, y + 0.01, word, fontsize=12)\n",
    "\n",
    "plt.title(f\"2D PCA Visualization of '{target_word}' with Similar and Dissimilar Words\")\n",
    "plt.xlabel(\"PCA Component 1\")\n",
    "plt.ylabel(\"PCA Component 2\")\n",
    "plt.grid(True)\n",
    "plt.show()\n"
   ]
  },
  {
   "cell_type": "markdown",
   "id": "92e400d58c13f954",
   "metadata": {},
   "source": [
    "## 3.4. Contextual Embedding (BERT - The idea of Transformer)"
   ]
  }
 ],
 "metadata": {
  "kernelspec": {
   "display_name": "Python 3 (ipykernel)",
   "language": "python",
   "name": "python3"
  },
  "language_info": {
   "codemirror_mode": {
    "name": "ipython",
    "version": 3
   },
   "file_extension": ".py",
   "mimetype": "text/x-python",
   "name": "python",
   "nbconvert_exporter": "python",
   "pygments_lexer": "ipython3",
   "version": "3.9.21"
  }
 },
 "nbformat": 4,
 "nbformat_minor": 5
}
