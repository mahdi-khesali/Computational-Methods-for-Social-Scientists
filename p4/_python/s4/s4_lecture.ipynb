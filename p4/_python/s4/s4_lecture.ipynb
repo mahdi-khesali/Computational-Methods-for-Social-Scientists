{
 "cells": [
  {
   "metadata": {},
   "cell_type": "markdown",
   "source": [
    "### To Use the Code in Google Colab\n",
    "\n",
    "To run the notebooks and access the data in Google Colab, follow these steps:\n",
    "\n",
    "1. **Create a Google account** if you don't already have one. This gives you access to both Colab and Google Drive.\n",
    "\n",
    "2. **Use the shared link** provided to you to copy (clone) the notebooks into your own Google Drive.\n",
    "\n",
    "3. **Download the corpora and exercise files** from the link provided, and upload them to your Google Drive.\n",
    "\n",
    "4. **Grant Colab access to your Google Drive** by running the following code:\n",
    "\n",
    "```python\n",
    "from google.colab import drive\n",
    "drive.mount('/content/drive')\n",
    "```\n",
    "\n",
    "\n",
    "5. **You can now easily read files from your Google Drive** using standard file paths.\n",
    "\n",
    "---\n",
    "---"
   ],
   "id": "d26d9cf98c378ce8"
  },
  {
   "metadata": {},
   "cell_type": "code",
   "outputs": [],
   "execution_count": null,
   "source": [
    "# Uncomment when you use colab\n",
    "# from google.colab import drive\n",
    "# drive.mount('/content/drive')"
   ],
   "id": "f9ce624e44ff7725"
  },
  {
   "cell_type": "markdown",
   "id": "11e44c66-af1d-4cf2-89d3-34653fe58b20",
   "metadata": {},
   "source": [
    "# Text Classification "
   ]
  },
  {
   "cell_type": "code",
   "execution_count": null,
   "id": "a4e10038-2f72-4e8a-921f-825546ec3f28",
   "metadata": {},
   "outputs": [],
   "source": []
  },
  {
   "cell_type": "code",
   "execution_count": null,
   "id": "8476f34c-27e8-4bbc-b69c-42ba7f70c4cd",
   "metadata": {},
   "outputs": [],
   "source": []
  },
  {
   "cell_type": "code",
   "execution_count": null,
   "id": "84fc08d7-7029-43b2-bdcb-3bb77d9f4f16",
   "metadata": {},
   "outputs": [],
   "source": []
  },
  {
   "cell_type": "code",
   "execution_count": null,
   "id": "21f495ff-e2bb-4a10-833e-348028f5b72f",
   "metadata": {},
   "outputs": [],
   "source": []
  },
  {
   "cell_type": "code",
   "execution_count": null,
   "id": "17d79a3a-ee7c-40d0-969c-851d493906b7",
   "metadata": {},
   "outputs": [],
   "source": []
  },
  {
   "cell_type": "code",
   "execution_count": null,
   "id": "ce5c559c-f49c-4ad4-a091-618810642b34",
   "metadata": {},
   "outputs": [],
   "source": []
  },
  {
   "cell_type": "markdown",
   "id": "124b07cb-199a-4ca0-aa26-750beaded6ec",
   "metadata": {},
   "source": [
    "# Text Scaling "
   ]
  },
  {
   "cell_type": "code",
   "execution_count": null,
   "id": "8d554f33-a44f-4558-84a8-b4aa0aaea77e",
   "metadata": {},
   "outputs": [],
   "source": []
  },
  {
   "cell_type": "code",
   "execution_count": null,
   "id": "a4883c6e-0569-41bc-a8b8-7855bd14f420",
   "metadata": {},
   "outputs": [],
   "source": []
  },
  {
   "cell_type": "code",
   "execution_count": null,
   "id": "f9c8c1ec-2ea6-4630-a645-de62f5b9d114",
   "metadata": {},
   "outputs": [],
   "source": []
  },
  {
   "cell_type": "code",
   "execution_count": null,
   "id": "167eb34f-a2ed-47a0-82f9-22b895c1361c",
   "metadata": {},
   "outputs": [],
   "source": []
  },
  {
   "cell_type": "code",
   "execution_count": null,
   "id": "ee64698c-e09e-4cfe-a9af-9ff1199b4fa4",
   "metadata": {},
   "outputs": [],
   "source": []
  },
  {
   "cell_type": "markdown",
   "id": "26789750-fa68-484c-9968-3de0c81a285b",
   "metadata": {},
   "source": [
    "# Evalution metrices "
   ]
  },
  {
   "cell_type": "code",
   "execution_count": null,
   "id": "e244407d-a117-4b2d-9f63-a0331bf672c3",
   "metadata": {},
   "outputs": [],
   "source": []
  },
  {
   "cell_type": "code",
   "execution_count": null,
   "id": "3c9544b9-c4c9-4b92-a03d-aba5a58a15e2",
   "metadata": {},
   "outputs": [],
   "source": []
  },
  {
   "cell_type": "code",
   "execution_count": null,
   "id": "7be9e8bc-c00f-47e0-9f1f-298b4d268fc7",
   "metadata": {},
   "outputs": [],
   "source": []
  },
  {
   "cell_type": "code",
   "execution_count": null,
   "id": "6d65fdf5-dac7-42b6-b4df-704849ddbaf4",
   "metadata": {},
   "outputs": [],
   "source": []
  },
  {
   "cell_type": "code",
   "execution_count": null,
   "id": "63ea1630-9159-4eb4-b466-0d927d0edd4e",
   "metadata": {},
   "outputs": [],
   "source": []
  },
  {
   "cell_type": "code",
   "execution_count": null,
   "id": "21ab0385-25a9-4ae9-b8d2-637b80168a15",
   "metadata": {},
   "outputs": [],
   "source": []
  },
  {
   "cell_type": "markdown",
   "id": "9aef9cda-348c-4da1-ac23-4e9886ed7e25",
   "metadata": {},
   "source": [
    "# Document Similarity "
   ]
  },
  {
   "cell_type": "code",
   "execution_count": null,
   "id": "c79b0ef2-1110-4082-8803-3c51d490c5b9",
   "metadata": {},
   "outputs": [],
   "source": []
  },
  {
   "cell_type": "code",
   "execution_count": null,
   "id": "0bbee90b-1539-4151-8e06-bbe527c1b446",
   "metadata": {},
   "outputs": [],
   "source": []
  },
  {
   "cell_type": "code",
   "execution_count": null,
   "id": "3b88bfbd-b9ee-4ea5-9cab-6bd2cd7fd5cf",
   "metadata": {},
   "outputs": [],
   "source": []
  },
  {
   "cell_type": "code",
   "execution_count": null,
   "id": "791a6c56-ad27-4866-b4d8-fc49f027853a",
   "metadata": {},
   "outputs": [],
   "source": []
  }
 ],
 "metadata": {
  "kernelspec": {
   "display_name": "Python 3 (ipykernel)",
   "language": "python",
   "name": "python3"
  },
  "language_info": {
   "codemirror_mode": {
    "name": "ipython",
    "version": 3
   },
   "file_extension": ".py",
   "mimetype": "text/x-python",
   "name": "python",
   "nbconvert_exporter": "python",
   "pygments_lexer": "ipython3",
   "version": "3.9.21"
  }
 },
 "nbformat": 4,
 "nbformat_minor": 5
}
